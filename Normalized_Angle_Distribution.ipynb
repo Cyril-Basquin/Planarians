{
 "cells": [
  {
   "cell_type": "markdown",
   "metadata": {},
   "source": [
    "### A notebook to normalize the orientation of the centriole \n",
    "\n",
    "This normalization occur on a data_Laoder"
   ]
  },
  {
   "cell_type": "code",
   "execution_count": 1,
   "metadata": {},
   "outputs": [],
   "source": [
    "import torch\n",
    "import torch.nn as nn\n",
    "from torch.utils.data import Dataset\n",
    "\n",
    "import numpy as np\n",
    "import csv\n",
    "import pickle\n",
    "import import_ipynb\n",
    "\n",
    "import random"
   ]
  },
  {
   "cell_type": "code",
   "execution_count": 2,
   "metadata": {},
   "outputs": [],
   "source": [
    "def dataset_loader(path = '../data/', train_set = 'train_data_pregression_b700_unNormalized.pth', val_set = 'validation_loader_dataset_b700_unNormalized.pth' ):\n",
    "    \"\"\" A function that load a 'torch' dataset.\n",
    "    Arguments:\n",
    "        -> path    : path to the dataset location\n",
    "        -> train_set: name of the train dataset\n",
    "        -> val_set  : name of the validation dataset\n",
    "    \"\"\"\n",
    "    train_loader = pickle.load(open(path + train_set, 'rb'))\n",
    "    validation_loader = pickle.load(open(path + val_set, 'rb'))\n",
    "    \n",
    "    return train_loader, validation_loader"
   ]
  },
  {
   "cell_type": "code",
   "execution_count": 3,
   "metadata": {},
   "outputs": [],
   "source": [
    "class centriole_dataset(Dataset):\n",
    "    def __init__(self, img_db, angle_db, transform = None, root_dir = None, problem = None):\n",
    "        self.root_dir = root_dir\n",
    "        self.img_db = img_db\n",
    "        self.angle_db = angle_db\n",
    "        self.transform = transform\n",
    "        self.problem = problem\n",
    "           \n",
    "    def __len__(self):\n",
    "        return len(self.angle_db)\n",
    "    \n",
    "    def __getitem__(self, idx):\n",
    "        \n",
    "        img = self.img_db[idx]\n",
    "        angle = self.angle_db[idx]\n",
    "        \n",
    "        if self.problem == 'classification':\n",
    "            angle = np.array(angle, dtype = 'int') # [angle]\n",
    "        else:\n",
    "            angle = np.array(angle, dtype = 'double')\n",
    "        \n",
    "        sample = {'image': img, 'angle': angle}\n",
    "        \n",
    "        if self.transform:\n",
    "            sample = self.transform(sample)\n",
    "        \n",
    "        return sample"
   ]
  },
  {
   "cell_type": "code",
   "execution_count": 4,
   "metadata": {},
   "outputs": [
    {
     "name": "stdout",
     "output_type": "stream",
     "text": [
      "importing Jupyter notebook from /home/cyril_b/projects/Planarians/tools/Dataset_Tools.ipynb\n",
      "importing Jupyter notebook from /home/cyril_b/projects/Planarians/tools/ToolBox.ipynb\n"
     ]
    }
   ],
   "source": [
    "train_loaded = pickle.load(open('./data/train_data_pregression_b700_unNormalized.pth', 'rb'))"
   ]
  },
  {
   "cell_type": "code",
   "execution_count": 6,
   "metadata": {},
   "outputs": [
    {
     "name": "stdout",
     "output_type": "stream",
     "text": [
      "Computation over\n"
     ]
    }
   ],
   "source": [
    "img_db = []\n",
    "angle_db = []\n",
    "maxAngle = 0\n",
    "\n",
    "for data in train_loaded:\n",
    "    for i in range(len(data['angle'])):\n",
    "    #for i in range(10):\n",
    "        # Search the number of 90 deg rotation to put the centriole in an 0-90° range\n",
    "        rotation = (data['angle'][i].numpy()//5)//18*90\n",
    "        newAngle = data['angle'][i].numpy()-rotation\n",
    "        \n",
    "        \n",
    "        # Re orient the image in a 0-90° range\n",
    "        i = 0\n",
    "        image = data['image'][i].numpy()\n",
    "        while i != rotation/90:\n",
    "            image = np.rot90(image)\n",
    "            i += 1\n",
    "        \n",
    "        # Randomly reorient the image and adjust the angle\n",
    "        i = 0\n",
    "        rd_rot = random.randint(0,3)\n",
    "        newAngle = rd_rot*90 + newAngle\n",
    "\n",
    "        while i != rd_rot:\n",
    "            image = np.rot90(image)\n",
    "            i += 1\n",
    "        \n",
    "        \n",
    "        if newAngle//5 == 0 or newAngle//5 == 18 or newAngle//5 == 36 or newAngle//5 == 54:\n",
    "            if random.random() < 0.66:      \n",
    "                img_db.append(image)\n",
    "                angle_db.append(newAngle)\n",
    "        else: \n",
    "            img_db.append(image)\n",
    "            angle_db.append(newAngle)\n",
    "        \n",
    "\n",
    "print('Computation over')"
   ]
  },
  {
   "cell_type": "code",
   "execution_count": null,
   "metadata": {},
   "outputs": [],
   "source": []
  },
  {
   "cell_type": "code",
   "execution_count": 7,
   "metadata": {},
   "outputs": [],
   "source": [
    "newDB = []\n",
    "\n",
    "for i in img_db:\n",
    "    flat = i.flatten()\n",
    "    flat = flat.reshape(1,32,32)\n",
    "    newDB.append(flat)\n",
    "    \n",
    "newDB = np.array(newDB, dtype='double')\n",
    "newDB = newDB.reshape(len(img_db), 1, 32, 32)"
   ]
  },
  {
   "cell_type": "code",
   "execution_count": 8,
   "metadata": {},
   "outputs": [],
   "source": [
    "angle_db = np.array(angle_db)\n",
    "\n",
    "training = centriole_dataset(newDB, angle_db, problem = 'regression')\n",
    "\n",
    "train_loader = torch.utils.data.DataLoader(training, batch_size = 700, shuffle = True, drop_last=True)"
   ]
  },
  {
   "cell_type": "code",
   "execution_count": null,
   "metadata": {},
   "outputs": [],
   "source": [
    "torch.save(train_loader, './data/data_train_regression_normalized.pth')"
   ]
  },
  {
   "cell_type": "code",
   "execution_count": 10,
   "metadata": {},
   "outputs": [],
   "source": [
    "\n",
    "with open('./data/data_train_regression_normalized.pth', 'wb') as f:\n",
    "    pickle.dump(train_loader, f, protocol = 4)\n",
    "\n",
    "#pickle.dump(train_loader, open('./data/data_train_regression_normalized_2.pth', 'wb'), protocol=4)"
   ]
  },
  {
   "cell_type": "code",
   "execution_count": 2,
   "metadata": {},
   "outputs": [],
   "source": [
    "trashy = [1, 2, 3]\n",
    "\n",
    "import pickle\n",
    "\n",
    "with open('./data/trash_me.pth', 'wb') as f:\n",
    "    pickle.dump(trashy, f, protocol = 4)\n",
    "\n",
    "#pickle.dump(train_loader, open('./data/data_train_regression_normalized_2.pth', 'wb'), protocol=4)"
   ]
  },
  {
   "cell_type": "code",
   "execution_count": 122,
   "metadata": {
    "jupyter": {
     "source_hidden": true
    }
   },
   "outputs": [
    {
     "data": {
      "text/plain": [
       "<AxesSubplot:ylabel='Count'>"
      ]
     },
     "execution_count": 122,
     "metadata": {},
     "output_type": "execute_result"
    },
    {
     "data": {
      "image/png": "[encoded data removed]",
      "text/plain": [
       "<Figure size 432x288 with 1 Axes>"
      ]
     },
     "metadata": {
      "needs_background": "light"
     },
     "output_type": "display_data"
    }
   ],
   "source": [
    "class_72 = np.zeros(72)\n",
    "classes = np.linspace(0,71, 72, dtype = np.int16)\n",
    "\n",
    "for i in train_loaded:\n",
    "    for j in i['angle']:\n",
    "        class_72[int(j.numpy()//5)] += 1\n",
    "        \n",
    "import seaborn as sns\n",
    "\n",
    "sns.histplot(x = classes, weights = class_72, discrete =  True)"
   ]
  },
  {
   "cell_type": "code",
   "execution_count": 9,
   "metadata": {},
   "outputs": [
    {
     "data": {
      "text/plain": [
       "<AxesSubplot:ylabel='Count'>"
      ]
     },
     "execution_count": 9,
     "metadata": {},
     "output_type": "execute_result"
    },
    {
     "data": {
      "image/png": "[encoded data removed]",
      "text/plain": [
       "<Figure size 432x288 with 1 Axes>"
      ]
     },
     "metadata": {
      "needs_background": "light"
     },
     "output_type": "display_data"
    }
   ],
   "source": [
    "class_72 = np.zeros(72)\n",
    "classes = np.linspace(0,71, 72, dtype = np.int16)\n",
    "\n",
    "for i in train_loader:\n",
    "    for j in i['angle']:\n",
    "        class_72[int(j.numpy()//5)] += 1\n",
    "        \n",
    "import seaborn as sns\n",
    "\n",
    "sns.histplot(x = classes, weights = class_72, discrete =  True)"
   ]
  },
  {
   "cell_type": "code",
   "execution_count": null,
   "metadata": {},
   "outputs": [],
   "source": []
  },
  {
   "cell_type": "code",
   "execution_count": null,
   "metadata": {},
   "outputs": [],
   "source": [
    "from PIL import Image\n",
    "import numpy as np\n",
    "\n",
    "import random"
   ]
  },
  {
   "cell_type": "code",
   "execution_count": null,
   "metadata": {},
   "outputs": [],
   "source": [
    "raw_img = []\n",
    "raw_angle = []\n",
    "for i in train_loaded:\n",
    "    for j in range(len(i['image'])):\n",
    "        raw_img.append(i['image'][j].numpy())\n",
    "        raw_angle.append(i['angle'][j])"
   ]
  },
  {
   "cell_type": "code",
   "execution_count": null,
   "metadata": {},
   "outputs": [],
   "source": [
    "i = random.randint(0, len(raw_angle))\n",
    "test_angle = raw_angle[i]\n",
    "test_img = raw_img[i].reshape(32, 32)\n",
    "\n",
    "test_img = test_img/np.amax(test_img)\n",
    "\n",
    "print(test_angle.numpy())\n",
    "\n",
    "# Creates PIL image\n",
    "img = Image.fromarray(np.uint8(test_img * 255) , 'L')\n",
    "img.show()"
   ]
  }
 ],
 "metadata": {
  "kernelspec": {
   "display_name": "schmidtea",
   "language": "python",
   "name": "schmidtea"
  },
  "language_info": {
   "codemirror_mode": {
    "name": "ipython",
    "version": 3
   },
   "file_extension": ".py",
   "mimetype": "text/x-python",
   "name": "python",
   "nbconvert_exporter": "python",
   "pygments_lexer": "ipython3",
   "version": "3.8.5"
  }
 },
 "nbformat": 4,
 "nbformat_minor": 4
}
