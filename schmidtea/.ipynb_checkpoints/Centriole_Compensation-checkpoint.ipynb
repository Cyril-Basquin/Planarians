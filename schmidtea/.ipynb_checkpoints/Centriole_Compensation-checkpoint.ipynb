{
 "cells": [
  {
   "cell_type": "code",
   "execution_count": 1,
   "metadata": {},
   "outputs": [
    {
     "name": "stdout",
     "output_type": "stream",
     "text": [
      "importing Jupyter notebook from /home/cyril_b/projects/schmidtea/tools/ToolBox.ipynb\n"
     ]
    }
   ],
   "source": [
    "import import_ipynb\n",
    "\n",
    "from tools.ToolBox import orthogonal_projection\n",
    "from tools.ToolBox import segment_length"
   ]
  },
  {
   "cell_type": "code",
   "execution_count": null,
   "metadata": {},
   "outputs": [],
   "source": [
    "def distance_point_segment(point_a, point_b, point_c):\n",
    "    \"\"\"\n",
    "    A function that give both lateral and longitudinal absolute distance between a point and a segment/line and the smallest distance between a point and a segment.\n",
    "    Note: the longitudinale distance can be negative if the projection of the point on the line bc is located 'before' the segment bc.\n",
    "    In experimental condition, this might happen when midline do not fit perfectly the worm a the \"start\" (= tail)\n",
    "    \n",
    "    The Function return:\n",
    "        -> seg_dist: The minimal distance between a point and a segment bc\n",
    "        -> lateral_dist: the distance between the point a and its projection on the line bc \n",
    "        -> longitudinal: the distance between the point b (considered here as the \"start\" of the segment) and the projection of point a\n",
    "        \n",
    "    Arguments:\n",
    "        -> point_a: X & Y coordinates of the point of interest\n",
    "        -> point_b: X & Y coordinates of a segment\n",
    "        -> point_c: X & Y cooridnates of a segment\"\"\"\n",
    "    \n",
    "    slope, origin = get_segment_slope_and_origin((point_b, point_c))\n",
    "    proj_a_on_bc = orthogonal_projection(point_a, slope, origin)\n",
    "    \n",
    "    \n",
    "    proj_a_to_b = segment_length(proj_a_on_bc, point_b)\n",
    "    proj_a_to_c = segment_length(proj_a_on_bc, point_b)\n",
    "    b_to_c = segment_length(point_b, point_c)\n",
    "    \n",
    "    \n",
    "    if (proj_a_to_b + proj_a_to_c) > b_to_c:\n",
    "        if proj_a_to_c > proj_a_to_b:\n",
    "            seg_dist = segment_length(point_a, point_b)\n",
    "            longitudinal_dist = - segment_length(point_b, proj_a_on_bc)\n",
    "        else: \n",
    "            seg_dist = segment_length(point_a, point_c)\n",
    "            longitudinal_dist = segment_length(point_b, proj_a_on_bc)\n",
    "         \n",
    "    else: \n",
    "        seg_dist = segment_length(point_a, proj_a_on_bc)\n",
    "        longitudinal_dist = segment_length(point_b, proj_a_on_bc)\n",
    "        \n",
    "    lateral_dist = segment_length(point_a, proj_a_on_bc)\n",
    "    \n",
    "    \n",
    "    if proj_a_to_b[1] > point_a[1]:\n",
    "        centr_side = 'right'\n",
    "    else:\n",
    "        centr_side = 'left'\n",
    "    \n",
    "    \n",
    "    return seg_dist, lateral_dist, longitudinal_dist, centr_side"
   ]
  },
  {
   "cell_type": "code",
   "execution_count": 8,
   "metadata": {},
   "outputs": [],
   "source": [
    "# This function need to accept \n",
    "\n",
    "def get_centriole_segment(a_centriole_coord, a_segment_list):\n",
    "    \"\"\"Function that compute the closest distance between a point and multiple segments and keep the smallest one\n",
    "    Arguments:\n",
    "        -> a_centriole_coord: X & Y coordinates of a point\n",
    "        -> a_segment_list: a list of slope and origin\"\"\"\n",
    "    \n",
    "    index = 0\n",
    "    dist = 99999999999999999999999\n",
    "    \n",
    "    # find the segment closest to a point + return some characteristics\n",
    "    for idx, segment in enumerate(a_segment_list):\n",
    "        new_dist, new_lateral_dist, new_long_dist, new_centr_side = distance_point_segment(a_centriole_coord, segment[0], segment[1])\n",
    "\n",
    "        if new_dist <= dist:\n",
    "            seg_index = idx\n",
    "            dist, lateral_dist, long_dist, centr_side = new_dist, new_lateral_dist, new_long_dist, new_centr_side \n",
    "    \n",
    "            \n",
    "    return seg_index, lateral_dist, longitudinal_dist, centr_side"
   ]
  },
  {
   "cell_type": "code",
   "execution_count": null,
   "metadata": {},
   "outputs": [],
   "source": [
    "def El_Compensator(a_centriole_list, a_midline, an_edge):\n",
    "    \"\"\"The input of the function Function that return compensated angle and relative lateral distance\"\"\"\n",
    "    \n",
    "    ## Extraction and transformation of the midline characteristic\n",
    "    # Sum all segment length to get midline (worm) length\n",
    "    worm_length = sum([ele[3] for ele in a_midline]\n",
    "                      \n",
    "    # TO DO: Extract the coordinates of the midline to fit the \n",
    "    a_midline_coordinates = [segment for segment in a_midline]\n",
    "    \n",
    "    for a_sgle_centriole in a_centriole_list:  # Take care on how a_centriole_list is configured\n",
    "        # Get closest segment of a centriole + some characteristic            \n",
    "        seg_idx, lateral_dist, long_list, side = get_centriole_segment(a_sgle_centriole, a_midline_coordinates)\n",
    "\n",
    "        # Get relative length ()               \n",
    "        relative_long_len = (long_dist + a_midline[seg_idx][3])/worm_length\n",
    "                      \n",
    "        # Compensate angle (calculated angle - midline angle)\n",
    "        real_centriole_angle = a_sgle_centriole[2] - a_midline[seg_idx][5]\n",
    "                      \n",
    "        # Get relative lateral distance"
   ]
  }
 ],
 "metadata": {
  "kernelspec": {
   "display_name": "schmidtea",
   "language": "python",
   "name": "schmidtea"
  },
  "language_info": {
   "codemirror_mode": {
    "name": "ipython",
    "version": 3
   },
   "file_extension": ".py",
   "mimetype": "text/x-python",
   "name": "python",
   "nbconvert_exporter": "python",
   "pygments_lexer": "ipython3",
   "version": "3.8.5"
  }
 },
 "nbformat": 4,
 "nbformat_minor": 4
}
