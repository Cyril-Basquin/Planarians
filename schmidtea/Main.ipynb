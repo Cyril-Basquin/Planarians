{
 "cells": [
  {
   "cell_type": "markdown",
   "metadata": {},
   "source": [
    "## Summarize the centriole compensation\n",
    "\n",
    "Required input:\n",
    "\n",
    "For the midline: a list of X_coordinate and a list of Y_coordinate\n",
    "\n",
    "For the edge: a list of X_coordinate and a list of Y_coordinate\n",
    "\n",
    "For the centriole: a list of list containing [X_coordinate, Y_coordinate, an angle (in degrees)]"
   ]
  },
  {
   "cell_type": "code",
   "execution_count": 1,
   "metadata": {},
   "outputs": [
    {
     "name": "stdout",
     "output_type": "stream",
     "text": [
      "importing Jupyter notebook from /home/cyril_b/projects/schmidtea/tools/Centriole_Characteristic.ipynb\n",
      "importing Jupyter notebook from /home/cyril_b/projects/schmidtea/tools/ToolBox.ipynb\n",
      "importing Jupyter notebook from /home/cyril_b/projects/schmidtea/tools/Midline_Edge_Reformater.ipynb\n"
     ]
    }
   ],
   "source": [
    "import import_ipynb\n",
    "\n",
    "from tools.Centriole_Characteristic import *"
   ]
  },
  {
   "cell_type": "code",
   "execution_count": 2,
   "metadata": {},
   "outputs": [
    {
     "ename": "NameError",
     "evalue": "name 'x_list_midline' is not defined",
     "output_type": "error",
     "traceback": [
      "\u001b[0;31m---------------------------------------------------------------------------\u001b[0m",
      "\u001b[0;31mNameError\u001b[0m                                 Traceback (most recent call last)",
      "\u001b[0;32m<ipython-input-2-7fed960f0a7b>\u001b[0m in \u001b[0;36m<module>\u001b[0;34m\u001b[0m\n\u001b[1;32m     12\u001b[0m \u001b[0;34m\u001b[0m\u001b[0m\n\u001b[1;32m     13\u001b[0m \u001b[0;34m\u001b[0m\u001b[0m\n\u001b[0;32m---> 14\u001b[0;31m midline_final = aggregate_segment_char(x_list_midline, y_list_midline, \n\u001b[0m\u001b[1;32m     15\u001b[0m                                        \u001b[0mx_list_edge\u001b[0m\u001b[0;34m,\u001b[0m \u001b[0my_list_edge\u001b[0m\u001b[0;34m,\u001b[0m\u001b[0;34m\u001b[0m\u001b[0;34m\u001b[0m\u001b[0m\n\u001b[1;32m     16\u001b[0m                                        \u001b[0mn_midline_seg\u001b[0m \u001b[0;34m=\u001b[0m \u001b[0;36m50\u001b[0m\u001b[0;34m,\u001b[0m\u001b[0;34m\u001b[0m\u001b[0;34m\u001b[0m\u001b[0m\n",
      "\u001b[0;31mNameError\u001b[0m: name 'x_list_midline' is not defined"
     ]
    }
   ],
   "source": [
    "\n",
    "\n",
    "\n",
    "# From a midline and an edge, give as output\n",
    "midline_final = aggregate_segment_char(x_list_midline, y_list_midline, \n",
    "                                       x_list_edge, y_list_edge, \n",
    "                                       n_midline_seg = 50, \n",
    "                                       n_sub_segment = 25, \n",
    "                                       n_edge_seg = 9999)\n",
    "\n",
    "newCentrioleList = []\n",
    "for a_centriole in a_list_of_centriole:\n",
    "    newCentrioleList.append(centriole_characterizator(a_centriole, midline_final))\n",
    "\n"
   ]
  },
  {
   "cell_type": "code",
   "execution_count": null,
   "metadata": {},
   "outputs": [],
   "source": []
  }
 ],
 "metadata": {
  "kernelspec": {
   "display_name": "schmidtea",
   "language": "python",
   "name": "schmidtea"
  },
  "language_info": {
   "codemirror_mode": {
    "name": "ipython",
    "version": 3
   },
   "file_extension": ".py",
   "mimetype": "text/x-python",
   "name": "python",
   "nbconvert_exporter": "python",
   "pygments_lexer": "ipython3",
   "version": "3.8.5"
  }
 },
 "nbformat": 4,
 "nbformat_minor": 4
}
