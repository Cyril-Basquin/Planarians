{
 "cells": [
  {
   "cell_type": "markdown",
   "metadata": {},
   "source": [
    "### A notebook to normalize the orientation of the centriole \n",
    "\n",
    "This normalization occur on a data_Laoder"
   ]
  },
  {
   "cell_type": "code",
   "execution_count": 2,
   "metadata": {},
   "outputs": [
    {
     "ename": "ImportError",
     "evalue": "cannot import name 'dataset_creator' from 'Dataset_Tools' (Dataset_Tools.ipynb)",
     "output_type": "error",
     "traceback": [
      "\u001b[0;31m---------------------------------------------------------------------------\u001b[0m",
      "\u001b[0;31mImportError\u001b[0m                               Traceback (most recent call last)",
      "\u001b[0;32m<ipython-input-2-28f01ff047d7>\u001b[0m in \u001b[0;36m<module>\u001b[0;34m\u001b[0m\n\u001b[1;32m      9\u001b[0m \u001b[0;32mfrom\u001b[0m \u001b[0mToolBox\u001b[0m \u001b[0;32mimport\u001b[0m \u001b[0mcsv_saver\u001b[0m\u001b[0;34m\u001b[0m\u001b[0;34m\u001b[0m\u001b[0m\n\u001b[1;32m     10\u001b[0m \u001b[0;34m\u001b[0m\u001b[0m\n\u001b[0;32m---> 11\u001b[0;31m \u001b[0;32mfrom\u001b[0m \u001b[0mDataset_Tools\u001b[0m \u001b[0;32mimport\u001b[0m \u001b[0mdataset_creator\u001b[0m\u001b[0;34m\u001b[0m\u001b[0;34m\u001b[0m\u001b[0m\n\u001b[0m\u001b[1;32m     12\u001b[0m \u001b[0;32mfrom\u001b[0m \u001b[0mDataset_Tools\u001b[0m \u001b[0;32mimport\u001b[0m \u001b[0mdataset_loader\u001b[0m\u001b[0;34m\u001b[0m\u001b[0;34m\u001b[0m\u001b[0m\n\u001b[1;32m     13\u001b[0m \u001b[0;32mfrom\u001b[0m \u001b[0mDataset_Tools\u001b[0m \u001b[0;32mimport\u001b[0m \u001b[0mdataset_aggregator\u001b[0m\u001b[0;34m\u001b[0m\u001b[0;34m\u001b[0m\u001b[0m\n",
      "\u001b[0;31mImportError\u001b[0m: cannot import name 'dataset_creator' from 'Dataset_Tools' (Dataset_Tools.ipynb)"
     ]
    }
   ],
   "source": [
    "import torch\n",
    "import torch.nn as nn\n",
    "import numpy as np\n",
    "import csv\n",
    "\n",
    "import import_ipynb\n",
    "\n",
    "from ToolBox import json_loader\n",
    "from ToolBox import csv_saver\n",
    "\n",
    "from Dataset_Tools import dataset_creator\n",
    "from Dataset_Tools import dataset_loader\n",
    "from Dataset_Tools import dataset_aggregator"
   ]
  },
  {
   "cell_type": "code",
   "execution_count": 21,
   "metadata": {},
   "outputs": [
    {
     "name": "stdout",
     "output_type": "stream",
     "text": [
      "[267. 232. 256. 245.]\n"
     ]
    }
   ],
   "source": []
  },
  {
   "cell_type": "code",
   "execution_count": null,
   "metadata": {},
   "outputs": [],
   "source": [
    "train_loader, validation_loader = dataset_loader(path = './data/',\n",
    "                                                     train_set = 'train_loader_dataset_b700_unNormalized.pth',\n",
    "                                                     val_set = 'validation_loader_dataset_b700_unNormalized.pth')"
   ]
  },
  {
   "cell_type": "code",
   "execution_count": null,
   "metadata": {},
   "outputs": [],
   "source": [
    "img_db = []\n",
    "angle_db = []\n",
    "\n",
    "for data in train_loader:\n",
    "    for a_centriole in data:\n",
    "        rotation = (a_centriole['angle']//72)//18*90\n",
    "        \n",
    "        Normalized_db = a_centriole['angle']-rotation\n",
    "        \n",
    "        i = 0\n",
    "        image = a_centriole['image']\n",
    "        while i != rotation:\n",
    "            image = np.rot90(image)\n",
    "            i += 1"
   ]
  }
 ],
 "metadata": {
  "kernelspec": {
   "display_name": "schmidtea",
   "language": "python",
   "name": "schmidtea"
  },
  "language_info": {
   "codemirror_mode": {
    "name": "ipython",
    "version": 3
   },
   "file_extension": ".py",
   "mimetype": "text/x-python",
   "name": "python",
   "nbconvert_exporter": "python",
   "pygments_lexer": "ipython3",
   "version": "3.8.5"
  }
 },
 "nbformat": 4,
 "nbformat_minor": 4
}
