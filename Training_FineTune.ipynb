{
 "cells": [
  {
   "cell_type": "markdown",
   "metadata": {},
   "source": [
    "The 600 first epochs were performed on the reduce dataset (360 000 images). Then to the complete dataset (560 000 images).\n",
    "\n",
    "With batch size of 640 and 360 000 images in the database, 100 epochs took about 3h (a bit less)\n",
    "With batch size of 700 and 560 000 images in the database, 100 epochs took about 4h40\n",
    "\n",
    "\n",
    "WITH METRICS: 200 epochs: Wall time: 11h 33min 22s\n",
    "\n",
    "Current script load the 'final' weigths (which is save if everything goes well)\n",
    "\n",
    "Weights are saved every 100 epochs. I should probably keep wieghts each 1000 epochs (depending on how many time it took to treat the whole data set) 139298/139937\n",
    "\n",
    "\n",
    "Look at the correlation matrix to see if there is a bias in the angle correct prediction. If yes, rebuild the dataset by applying angle of 90/180/270 to try to get something mor or less homogenous\n",
    "1 step: realign every centriole in a 0->90 orientation\n",
    "\n",
    "2ns step: perform reorientation. => rotation of 90/180/270 i can also flip the image\n",
    "\n",
    "Load the 500 epochs save if problem\n",
    "\n",
    "\n",
    "\n",
    "TO DO:\n",
    "\n",
    "To check: Note: in train definition i put the model in train mode (model.train() ) I do not change this statut after.\n",
    "\n",
    "Save the log of accuracy and loss\n",
    "\n",
    "Save the train_loader and validation_loader to don't have to rebuild them (especially because that lead to mixing each time train and validation set\n",
    "\n",
    "\n",
    "IMPORTANT: CHANGE PERFORMED ON gestion of classification/Regression problem (modification of n_classes/n_class call in data_agregator and VGG_schmidtea to modify the call of the number of class. MODIFICATION NOT TESTED\n"
   ]
  },
  {
   "cell_type": "code",
   "execution_count": 1,
   "metadata": {
    "jupyter": {
     "source_hidden": true
    }
   },
   "outputs": [],
   "source": [
    "from __future__ import print_function, division\n",
    "import os\n",
    "import torch\n",
    "import pandas as pd\n",
    "from skimage import io, transform\n",
    "import numpy as np\n",
    "import matplotlib.pyplot as plt\n",
    "from torch.utils.data import Dataset, DataLoader\n",
    "from torchvision import transforms, utils\n",
    "import torch.nn as nn\n",
    "\n",
    "import csv\n",
    "import pickle\n",
    "import seaborn as sn\n",
    "import pandas as pd\n",
    "\n",
    "from sklearn.model_selection import train_test_split\n",
    "\n",
    "import json\n",
    "from glob import glob\n",
    "\n",
    "# Ignore warnings\n",
    "import warnings\n",
    "warnings.filterwarnings(\"ignore\")"
   ]
  },
  {
   "cell_type": "code",
   "execution_count": 1,
   "metadata": {},
   "outputs": [
    {
     "name": "stdout",
     "output_type": "stream",
     "text": [
      "importing Jupyter notebook from /home/cyril_b/projects/schmidtea/tools/ToolBox.ipynb\n",
      "importing Jupyter notebook from /home/cyril_b/projects/schmidtea/tools/CNN_Tools.ipynb\n",
      "importing Jupyter notebook from /home/cyril_b/projects/schmidtea/tools/Dataset_Tools.ipynb\n"
     ]
    }
   ],
   "source": [
    "import torch\n",
    "import torch.nn as nn\n",
    "import numpy as np\n",
    "import csv\n",
    "\n",
    "import import_ipynb\n",
    "\n",
    "from tools.ToolBox import json_loader\n",
    "from tools.ToolBox import csv_saver\n",
    "\n",
    "from tools.CNN_Tools import VGG_Schmidtea\n",
    "from tools.CNN_Tools import train\n",
    "from tools.CNN_Tools import validate\n",
    "\n",
    "from tools.Dataset_Tools import centriole_dataset\n",
    "from tools.Dataset_Tools import dataset_creator\n",
    "from tools.Dataset_Tools import dataset_loader\n",
    "from tools.Dataset_Tools import dataset_aggregator"
   ]
  },
  {
   "cell_type": "code",
   "execution_count": 2,
   "metadata": {},
   "outputs": [],
   "source": [
    "problem = 'regression'\n",
    "#problem = 'classification'\n",
    "\n",
    "\n",
    "if problem == 'classification':\n",
    "    n_class = 72\n",
    "    \n",
    "else:\n",
    "    n_class = 1\n"
   ]
  },
  {
   "cell_type": "code",
   "execution_count": 3,
   "metadata": {},
   "outputs": [],
   "source": [
    "# Feature Extracting: we update only the last layer so we set the requires.grad to false\n",
    "def set_parameter_requires_grad(model, feature_extracting):\n",
    "    if feature_extracting:\n",
    "        for param in model.parameters():\n",
    "            param.requires_grad = False"
   ]
  },
  {
   "cell_type": "code",
   "execution_count": 4,
   "metadata": {},
   "outputs": [],
   "source": [
    "load_dataset = True\n",
    "\n",
    "# Creation/Loading of the Dataset\n",
    "if load_dataset == False:   \n",
    "    train_loader, validation_loader = dataset_creator(path_json = './data_json/',\n",
    "                                                     batch_size = 700,\n",
    "                                                     n_class = n_class,\n",
    "                                                     save_dataset = True)  \n",
    "elif problem == 'classification':\n",
    "    train_loader, validation_loader = dataset_loader(path = './data/',\n",
    "                                                     train_set = 'train_loader_dataset_b700_unNormalized.pth',\n",
    "                                                     val_set = 'validation_loader_dataset_b700_unNormalized.pth')\n",
    "    \n",
    "else: \n",
    "    train_loader, validation_loader = dataset_loader(path = './data/',\n",
    "                                                 train_set = 'train_data_pregression_b700_unNormalized.pth',\n",
    "                                                 val_set = 'validation_data_pregression_b700_unNormalized.pth')\n",
    "\n",
    "    "
   ]
  },
  {
   "cell_type": "code",
   "execution_count": 5,
   "metadata": {},
   "outputs": [
    {
     "name": "stdout",
     "output_type": "stream",
     "text": [
      "Using PyTorch version: 1.6.0  Device: cuda\n",
      "Params to learn:\n",
      "\t classifier.8.weight\n",
      "\t classifier.8.bias\n"
     ]
    }
   ],
   "source": [
    "load_weight = True\n",
    "problem = 'regression'\n",
    "\n",
    "\n",
    "# For feature extraction: only the last layer is updated\n",
    "feature_extract = True\n",
    "\n",
    "\n",
    "if torch.cuda.is_available():                                  \n",
    "    device = torch.device('cuda')\n",
    "else:\n",
    "    device = torch.device('cpu')\n",
    "    \n",
    "print('Using PyTorch version:', torch.__version__, ' Device:', device)\n",
    "\n",
    "\n",
    "# Criterion and CNN loading\n",
    "if problem == 'classification':\n",
    "    criterion = nn.CrossEntropyLoss()\n",
    "    model = VGG_Schmidtea(n_classes = n_class)#.to(device)\n",
    "else: \n",
    "    criterion = nn.MSELoss()\n",
    "    model = VGG_Schmidtea(n_classes = 72)#.to(device)\n",
    "    model = VGG_Schmidtea(n_classes = 72)#.to(device)\n",
    "\n",
    "    \n",
    "criterion = nn.MSELoss()\n",
    "# Weight loading\n",
    "if load_weight == True:\n",
    "    #model.load_state_dict(torch.load('./weight/VGG_schmidtea_weigth_epoch_regression800.pth'))\n",
    "    model.load_state_dict(torch.load('./weight/VGG_schmidtea_weigth_epoch_600.pth'))\n",
    "\n",
    "    set_parameter_requires_grad(model, feature_extract)\n",
    "    model.classifier[8] = nn.Linear(4096, 1)\n",
    "    model.to(device)\n",
    "\n",
    "    \n",
    "params_to_update = model.parameters()\n",
    "print(\"Params to learn:\")\n",
    "if feature_extract:\n",
    "    params_to_update = []\n",
    "    for name,param in model.named_parameters():\n",
    "        if param.requires_grad == True:\n",
    "            params_to_update.append(param)\n",
    "            print(\"\\t\",name)\n",
    "else:\n",
    "    for name,param in model.named_parameters():\n",
    "        if param.requires_grad == True:\n",
    "            print(\"\\t\",name)\n",
    "    \n",
    "\n",
    "\n",
    "# Oprimizer loading\n",
    "optimizer = torch.optim.SGD(model.parameters(), lr=0.01, momentum=0.)\n"
   ]
  },
  {
   "cell_type": "code",
   "execution_count": 6,
   "metadata": {},
   "outputs": [
    {
     "name": "stdout",
     "output_type": "stream",
     "text": [
      "Train Epoch: 1 [0/559746 (0%)]\tLoss: 1.422309\n",
      "\n",
      "Training set: Average loss: 1.2772, Accuracy 5 : 29.0%, Accuracy 2.5 : 16.6, Accuracy 1 : 0.6\n",
      "Validation set: Average loss: 1.1781, Accuracy 5 : 29.1%, Accuracy 2.5 : 16.7, Accuracy 1 : 0.4\n",
      "\n",
      "Train Epoch: 2 [0/559746 (0%)]\tLoss: 1.196950\n",
      "\n",
      "Training set: Average loss: 1.1071, Accuracy 5 : 29.1%, Accuracy 2.5 : 17.5, Accuracy 1 : 0.4\n",
      "Validation set: Average loss: 1.0452, Accuracy 5 : 29.1%, Accuracy 2.5 : 18.1, Accuracy 1 : 0.4\n",
      "\n",
      "Train Epoch: 3 [0/559746 (0%)]\tLoss: 1.091345\n",
      "\n",
      "Training set: Average loss: 1.0051, Accuracy 5 : 29.3%, Accuracy 2.5 : 18.6, Accuracy 1 : 0.4\n",
      "Validation set: Average loss: 0.9657, Accuracy 5 : 29.5%, Accuracy 2.5 : 18.9, Accuracy 1 : 0.5\n",
      "\n",
      "Train Epoch: 4 [0/559746 (0%)]\tLoss: 0.999322\n",
      "\n",
      "Training set: Average loss: 0.9426, Accuracy 5 : 29.7%, Accuracy 2.5 : 19.1, Accuracy 1 : 0.4\n",
      "Validation set: Average loss: 0.9173, Accuracy 5 : 30.0%, Accuracy 2.5 : 19.2, Accuracy 1 : 0.5\n",
      "\n",
      "Train Epoch: 5 [0/559746 (0%)]\tLoss: 0.892461\n",
      "\n",
      "Training set: Average loss: 0.9027, Accuracy 5 : 30.2%, Accuracy 2.5 : 19.2, Accuracy 1 : 0.5\n",
      "Validation set: Average loss: 0.8833, Accuracy 5 : 30.4%, Accuracy 2.5 : 19.3, Accuracy 1 : 0.5\n",
      "\n",
      "Train Epoch: 6 [0/559746 (0%)]\tLoss: 0.819036\n",
      "\n",
      "Training set: Average loss: 0.8742, Accuracy 5 : 30.5%, Accuracy 2.5 : 19.3, Accuracy 1 : 0.5\n",
      "Validation set: Average loss: 0.8582, Accuracy 5 : 30.8%, Accuracy 2.5 : 19.3, Accuracy 1 : 0.5\n",
      "\n",
      "Train Epoch: 7 [0/559746 (0%)]\tLoss: 0.871946\n",
      "\n",
      "Training set: Average loss: 0.8514, Accuracy 5 : 30.8%, Accuracy 2.5 : 19.3, Accuracy 1 : 0.5\n",
      "Validation set: Average loss: 0.8369, Accuracy 5 : 31.0%, Accuracy 2.5 : 19.3, Accuracy 1 : 0.5\n",
      "\n",
      "Train Epoch: 8 [0/559746 (0%)]\tLoss: 0.899327\n",
      "\n",
      "Training set: Average loss: 0.8330, Accuracy 5 : 31.1%, Accuracy 2.5 : 19.3, Accuracy 1 : 0.5\n",
      "Validation set: Average loss: 0.8197, Accuracy 5 : 31.3%, Accuracy 2.5 : 19.4, Accuracy 1 : 0.5\n",
      "\n",
      "Train Epoch: 9 [0/559746 (0%)]\tLoss: 0.811961\n",
      "\n",
      "Training set: Average loss: 0.8165, Accuracy 5 : 31.3%, Accuracy 2.5 : 19.4, Accuracy 1 : 0.5\n",
      "Validation set: Average loss: 0.8044, Accuracy 5 : 31.4%, Accuracy 2.5 : 19.3, Accuracy 1 : 0.5\n",
      "\n",
      "Train Epoch: 10 [0/559746 (0%)]\tLoss: 0.765695\n",
      "\n",
      "Training set: Average loss: 0.8011, Accuracy 5 : 31.5%, Accuracy 2.5 : 19.4, Accuracy 1 : 0.5\n",
      "Validation set: Average loss: 0.7911, Accuracy 5 : 31.6%, Accuracy 2.5 : 19.4, Accuracy 1 : 0.5\n",
      "\n",
      "CPU times: user 34min 9s, sys: 552 ms, total: 34min 9s\n",
      "Wall time: 18min 58s\n"
     ]
    }
   ],
   "source": [
    "%%time\n",
    "\n",
    "# Define the number of epochs to train the model\n",
    "epochs = 10\n",
    "performed_epochs = 600\n",
    "\n",
    "\n",
    "# Let's Train!!\n",
    "for epoch in range(1, epochs + 1):\n",
    "    # Instantiate variable to log loss and accuracy\n",
    "    acct, losst, accv, lossv,cmt, cmv  = [], [], [], [], [], []\n",
    "    \n",
    "    train(model, losst, acct, cmt, train_loader, device, problem, criterion, optimizer, epoch, n_class)    \n",
    "    validate(model, lossv, accv, cmv, validation_loader, device, problem, criterion, n_class)\n",
    "    \n",
    "    if epoch%100 == 0:\n",
    "        torch.save(model.state_dict(),('./weight/VGG_schmidtea_weigth_epoch_regression' + str(epoch+performed_epochs) + '.pth'))\n",
    "    \n",
    "    \"\"\"\n",
    "    csv_saver(accv , './metrics/accv.csv')\n",
    "    csv_saver(lossv, './metrics/lossv.csv')\n",
    "    csv_saver(acct , './metrics/acct.csv')\n",
    "    csv_saver(losst, './metrics/losst.csv')\n",
    "    csv_saver(cmt  , './metrics/cmt.csv')\n",
    "    csv_saver(cmv  , './metrics/cmv.csv')\n",
    "    \"\"\"\n",
    "    \n",
    "    \n",
    "#torch.save(model.state_dict(),('VGG_schmidtea_weigth_epoch_final.pth'))"
   ]
  },
  {
   "cell_type": "code",
   "execution_count": 13,
   "metadata": {},
   "outputs": [
    {
     "name": "stdout",
     "output_type": "stream",
     "text": [
      "72\n"
     ]
    }
   ],
   "source": [
    "print(n_class)"
   ]
  },
  {
   "cell_type": "markdown",
   "metadata": {},
   "source": [
    "##### "
   ]
  },
  {
   "cell_type": "code",
   "execution_count": 8,
   "metadata": {},
   "outputs": [
    {
     "ename": "FileNotFoundError",
     "evalue": "[Errno 2] No such file or directory: './weigth/VGG_schmidtea_weigth_epoch_regression100.pth'",
     "output_type": "error",
     "traceback": [
      "\u001b[0;31m---------------------------------------------------------------------------\u001b[0m",
      "\u001b[0;31mFileNotFoundError\u001b[0m                         Traceback (most recent call last)",
      "\u001b[0;32m<ipython-input-8-13ce519cfd11>\u001b[0m in \u001b[0;36m<module>\u001b[0;34m\u001b[0m\n\u001b[0;32m----> 1\u001b[0;31m \u001b[0mtorch\u001b[0m\u001b[0;34m.\u001b[0m\u001b[0msave\u001b[0m\u001b[0;34m(\u001b[0m\u001b[0mmodel\u001b[0m\u001b[0;34m.\u001b[0m\u001b[0mstate_dict\u001b[0m\u001b[0;34m(\u001b[0m\u001b[0;34m)\u001b[0m\u001b[0;34m,\u001b[0m\u001b[0;34m(\u001b[0m\u001b[0;34m'./weigth/VGG_schmidtea_weigth_epoch_regression'\u001b[0m \u001b[0;34m+\u001b[0m \u001b[0mstr\u001b[0m\u001b[0;34m(\u001b[0m\u001b[0mepoch\u001b[0m\u001b[0;34m+\u001b[0m\u001b[0mperformed_epochs\u001b[0m\u001b[0;34m)\u001b[0m \u001b[0;34m+\u001b[0m \u001b[0;34m'.pth'\u001b[0m\u001b[0;34m)\u001b[0m\u001b[0;34m)\u001b[0m\u001b[0;34m\u001b[0m\u001b[0;34m\u001b[0m\u001b[0m\n\u001b[0m\u001b[1;32m      2\u001b[0m \u001b[0mtorch\u001b[0m\u001b[0;34m.\u001b[0m\u001b[0msave\u001b[0m\u001b[0;34m(\u001b[0m\u001b[0mmodel\u001b[0m\u001b[0;34m.\u001b[0m\u001b[0mstate_dict\u001b[0m\u001b[0;34m(\u001b[0m\u001b[0;34m)\u001b[0m\u001b[0;34m,\u001b[0m\u001b[0;34m(\u001b[0m\u001b[0;34m'./weigth/VGG_schmidtea_weigth_epoch_'\u001b[0m \u001b[0;34m+\u001b[0m \u001b[0mstr\u001b[0m\u001b[0;34m(\u001b[0m\u001b[0mepoch\u001b[0m\u001b[0;34m+\u001b[0m\u001b[0mperformed_epochs\u001b[0m\u001b[0;34m)\u001b[0m \u001b[0;34m+\u001b[0m \u001b[0;34m'.pth'\u001b[0m\u001b[0;34m)\u001b[0m\u001b[0;34m)\u001b[0m\u001b[0;34m\u001b[0m\u001b[0;34m\u001b[0m\u001b[0m\n",
      "\u001b[0;32m~/.virtualenvs/schmidtea/lib/python3.8/site-packages/torch/serialization.py\u001b[0m in \u001b[0;36msave\u001b[0;34m(obj, f, pickle_module, pickle_protocol, _use_new_zipfile_serialization)\u001b[0m\n\u001b[1;32m    359\u001b[0m     \u001b[0m_check_dill_version\u001b[0m\u001b[0;34m(\u001b[0m\u001b[0mpickle_module\u001b[0m\u001b[0;34m)\u001b[0m\u001b[0;34m\u001b[0m\u001b[0;34m\u001b[0m\u001b[0m\n\u001b[1;32m    360\u001b[0m \u001b[0;34m\u001b[0m\u001b[0m\n\u001b[0;32m--> 361\u001b[0;31m     \u001b[0;32mwith\u001b[0m \u001b[0m_open_file_like\u001b[0m\u001b[0;34m(\u001b[0m\u001b[0mf\u001b[0m\u001b[0;34m,\u001b[0m \u001b[0;34m'wb'\u001b[0m\u001b[0;34m)\u001b[0m \u001b[0;32mas\u001b[0m \u001b[0mopened_file\u001b[0m\u001b[0;34m:\u001b[0m\u001b[0;34m\u001b[0m\u001b[0;34m\u001b[0m\u001b[0m\n\u001b[0m\u001b[1;32m    362\u001b[0m         \u001b[0;32mif\u001b[0m \u001b[0m_use_new_zipfile_serialization\u001b[0m\u001b[0;34m:\u001b[0m\u001b[0;34m\u001b[0m\u001b[0;34m\u001b[0m\u001b[0m\n\u001b[1;32m    363\u001b[0m             \u001b[0;32mwith\u001b[0m \u001b[0m_open_zipfile_writer\u001b[0m\u001b[0;34m(\u001b[0m\u001b[0mopened_file\u001b[0m\u001b[0;34m)\u001b[0m \u001b[0;32mas\u001b[0m \u001b[0mopened_zipfile\u001b[0m\u001b[0;34m:\u001b[0m\u001b[0;34m\u001b[0m\u001b[0;34m\u001b[0m\u001b[0m\n",
      "\u001b[0;32m~/.virtualenvs/schmidtea/lib/python3.8/site-packages/torch/serialization.py\u001b[0m in \u001b[0;36m_open_file_like\u001b[0;34m(name_or_buffer, mode)\u001b[0m\n\u001b[1;32m    227\u001b[0m \u001b[0;32mdef\u001b[0m \u001b[0m_open_file_like\u001b[0m\u001b[0;34m(\u001b[0m\u001b[0mname_or_buffer\u001b[0m\u001b[0;34m,\u001b[0m \u001b[0mmode\u001b[0m\u001b[0;34m)\u001b[0m\u001b[0;34m:\u001b[0m\u001b[0;34m\u001b[0m\u001b[0;34m\u001b[0m\u001b[0m\n\u001b[1;32m    228\u001b[0m     \u001b[0;32mif\u001b[0m \u001b[0m_is_path\u001b[0m\u001b[0;34m(\u001b[0m\u001b[0mname_or_buffer\u001b[0m\u001b[0;34m)\u001b[0m\u001b[0;34m:\u001b[0m\u001b[0;34m\u001b[0m\u001b[0;34m\u001b[0m\u001b[0m\n\u001b[0;32m--> 229\u001b[0;31m         \u001b[0;32mreturn\u001b[0m \u001b[0m_open_file\u001b[0m\u001b[0;34m(\u001b[0m\u001b[0mname_or_buffer\u001b[0m\u001b[0;34m,\u001b[0m \u001b[0mmode\u001b[0m\u001b[0;34m)\u001b[0m\u001b[0;34m\u001b[0m\u001b[0;34m\u001b[0m\u001b[0m\n\u001b[0m\u001b[1;32m    230\u001b[0m     \u001b[0;32melse\u001b[0m\u001b[0;34m:\u001b[0m\u001b[0;34m\u001b[0m\u001b[0;34m\u001b[0m\u001b[0m\n\u001b[1;32m    231\u001b[0m         \u001b[0;32mif\u001b[0m \u001b[0;34m'w'\u001b[0m \u001b[0;32min\u001b[0m \u001b[0mmode\u001b[0m\u001b[0;34m:\u001b[0m\u001b[0;34m\u001b[0m\u001b[0;34m\u001b[0m\u001b[0m\n",
      "\u001b[0;32m~/.virtualenvs/schmidtea/lib/python3.8/site-packages/torch/serialization.py\u001b[0m in \u001b[0;36m__init__\u001b[0;34m(self, name, mode)\u001b[0m\n\u001b[1;32m    208\u001b[0m \u001b[0;32mclass\u001b[0m \u001b[0m_open_file\u001b[0m\u001b[0;34m(\u001b[0m\u001b[0m_opener\u001b[0m\u001b[0;34m)\u001b[0m\u001b[0;34m:\u001b[0m\u001b[0;34m\u001b[0m\u001b[0;34m\u001b[0m\u001b[0m\n\u001b[1;32m    209\u001b[0m     \u001b[0;32mdef\u001b[0m \u001b[0m__init__\u001b[0m\u001b[0;34m(\u001b[0m\u001b[0mself\u001b[0m\u001b[0;34m,\u001b[0m \u001b[0mname\u001b[0m\u001b[0;34m,\u001b[0m \u001b[0mmode\u001b[0m\u001b[0;34m)\u001b[0m\u001b[0;34m:\u001b[0m\u001b[0;34m\u001b[0m\u001b[0;34m\u001b[0m\u001b[0m\n\u001b[0;32m--> 210\u001b[0;31m         \u001b[0msuper\u001b[0m\u001b[0;34m(\u001b[0m\u001b[0m_open_file\u001b[0m\u001b[0;34m,\u001b[0m \u001b[0mself\u001b[0m\u001b[0;34m)\u001b[0m\u001b[0;34m.\u001b[0m\u001b[0m__init__\u001b[0m\u001b[0;34m(\u001b[0m\u001b[0mopen\u001b[0m\u001b[0;34m(\u001b[0m\u001b[0mname\u001b[0m\u001b[0;34m,\u001b[0m \u001b[0mmode\u001b[0m\u001b[0;34m)\u001b[0m\u001b[0;34m)\u001b[0m\u001b[0;34m\u001b[0m\u001b[0;34m\u001b[0m\u001b[0m\n\u001b[0m\u001b[1;32m    211\u001b[0m \u001b[0;34m\u001b[0m\u001b[0m\n\u001b[1;32m    212\u001b[0m     \u001b[0;32mdef\u001b[0m \u001b[0m__exit__\u001b[0m\u001b[0;34m(\u001b[0m\u001b[0mself\u001b[0m\u001b[0;34m,\u001b[0m \u001b[0;34m*\u001b[0m\u001b[0margs\u001b[0m\u001b[0;34m)\u001b[0m\u001b[0;34m:\u001b[0m\u001b[0;34m\u001b[0m\u001b[0;34m\u001b[0m\u001b[0m\n",
      "\u001b[0;31mFileNotFoundError\u001b[0m: [Errno 2] No such file or directory: './weigth/VGG_schmidtea_weigth_epoch_regression100.pth'"
     ]
    }
   ],
   "source": [
    "torch.save(model.state_dict(),('./weigth/VGG_schmidtea_weigth_epoch_regression' + str(epoch+performed_epochs) + '.pth'))\n",
    "torch.save(model.state_dict(),('./weigth/VGG_schmidtea_weigth_epoch_' + str(epoch+performed_epochs) + '.pth'))\n"
   ]
  },
  {
   "cell_type": "code",
   "execution_count": 9,
   "metadata": {},
   "outputs": [],
   "source": [
    "torch.save(model.state_dict(),('./hello.pth'))"
   ]
  },
  {
   "cell_type": "code",
   "execution_count": 16,
   "metadata": {},
   "outputs": [
    {
     "name": "stdout",
     "output_type": "stream",
     "text": [
      "[tensor(66.2634)]\n"
     ]
    }
   ],
   "source": [
    "a_list = list([accv[-1]])\n",
    "print(a_list)"
   ]
  },
  {
   "cell_type": "markdown",
   "metadata": {},
   "source": [
    "# ADD CONFUSION MATRIX IN REGISTERED METRICS\n",
    "\n",
    "In CNN_TOOLS , add conf_matrix as arguments and add the arguments here too"
   ]
  },
  {
   "cell_type": "code",
   "execution_count": 16,
   "metadata": {
    "collapsed": true,
    "jupyter": {
     "outputs_hidden": true
    },
    "scrolled": true
   },
   "outputs": [
    {
     "data": {
      "text/plain": [
       "<AxesSubplot:>"
      ]
     },
     "execution_count": 16,
     "metadata": {},
     "output_type": "execute_result"
    },
    {
     "data": {
      "image/png": "[encoded data removed]",
      "text/plain": [
       "<Figure size 864x576 with 2 Axes>"
      ]
     },
     "metadata": {
      "needs_background": "light"
     },
     "output_type": "display_data"
    }
   ],
   "source": [
    "confusion_matrix = torch.zeros(n_class, n_class)\n",
    "\n",
    "#model.load_state_dict(torch.load('./weight/VGG_schmidtea_weigth_epoch_1200.pth'))\n",
    "\n",
    "for batch_idx, batch in enumerate(validation_loader):\n",
    "    # Copy data to GPU if needed\n",
    "    img = batch['image'].float().to(device)\n",
    "    angle = batch['angle'].long().to(device)\n",
    "\n",
    "    with torch.no_grad():   \n",
    "        output = model(img)  \n",
    "\n",
    "    # get the index of the max log-probability\n",
    "    pred_angle = output.max(1)[1]\n",
    "\n",
    "    for a, p in zip(angle.view(-1), pred_angle.view(-1)):\n",
    "        confusion_matrix[a.long(), p.long()] +=1\n",
    "            \n",
    "# Data in %\n",
    "col_sum = confusion_matrix.numpy().sum(axis=1)\n",
    "col_sum = np.reshape(col_sum, [n_class, -1])\n",
    "\n",
    "confusion_matrix = confusion_matrix / col_sum\n",
    "    \n",
    "df_cm = pd.DataFrame(confusion_matrix.numpy())\n",
    "\n",
    "plt.figure(figsize = (12,8))\n",
    "sn.heatmap(df_cm)"
   ]
  },
  {
   "cell_type": "code",
   "execution_count": 68,
   "metadata": {
    "collapsed": true,
    "jupyter": {
     "outputs_hidden": true
    }
   },
   "outputs": [
    {
     "name": "stdout",
     "output_type": "stream",
     "text": [
      "Number of 0 : 27307\n",
      "Number of 1 : 13143\n",
      "Number of 2 : 12712\n",
      "Number of 3 : 13954\n",
      "Number of 4 : 14446\n",
      "Number of 5 : 15857\n",
      "Number of 6 : 15962\n",
      "Number of 7 : 14603\n",
      "Number of 8 : 12594\n",
      "Number of 9 : 14435\n",
      "Number of 10 : 12117\n",
      "Number of 11 : 11927\n",
      "Number of 12 : 11003\n",
      "Number of 13 : 9682\n",
      "Number of 14 : 9047\n",
      "Number of 15 : 8741\n",
      "Number of 16 : 8737\n",
      "Number of 17 : 7498\n",
      "Number of 18 : 10872\n",
      "Number of 19 : 6322\n",
      "Number of 20 : 6103\n",
      "Number of 21 : 6087\n",
      "Number of 22 : 6000\n",
      "Number of 23 : 6648\n",
      "Number of 24 : 6917\n",
      "Number of 25 : 7067\n",
      "Number of 26 : 6948\n",
      "Number of 27 : 8728\n",
      "Number of 28 : 8583\n",
      "Number of 29 : 8860\n",
      "Number of 30 : 8359\n",
      "Number of 31 : 7039\n",
      "Number of 32 : 6237\n",
      "Number of 33 : 5130\n",
      "Number of 34 : 4483\n",
      "Number of 35 : 3748\n",
      "Number of 36 : 7302\n",
      "Number of 37 : 3989\n",
      "Number of 38 : 3910\n",
      "Number of 39 : 4184\n",
      "Number of 40 : 4275\n",
      "Number of 41 : 4767\n",
      "Number of 42 : 4838\n",
      "Number of 43 : 4511\n",
      "Number of 44 : 3945\n",
      "Number of 45 : 5024\n",
      "Number of 46 : 4306\n",
      "Number of 47 : 4531\n",
      "Number of 48 : 4612\n",
      "Number of 49 : 4452\n",
      "Number of 50 : 4814\n",
      "Number of 51 : 5205\n",
      "Number of 52 : 5690\n",
      "Number of 53 : 5294\n",
      "Number of 54 : 13209\n",
      "Number of 55 : 8707\n",
      "Number of 56 : 9103\n",
      "Number of 57 : 9603\n",
      "Number of 58 : 9924\n",
      "Number of 59 : 11643\n",
      "Number of 60 : 13066\n",
      "Number of 61 : 13965\n",
      "Number of 62 : 13957\n",
      "Number of 63 : 18357\n",
      "Number of 64 : 17879\n",
      "Number of 65 : 19549\n",
      "Number of 66 : 19616\n",
      "Number of 67 : 17574\n",
      "Number of 68 : 16721\n",
      "Number of 69 : 14807\n",
      "Number of 70 : 14662\n",
      "Number of 71 : 13796\n"
     ]
    }
   ],
   "source": [
    "for i in range(72):\n",
    "    print(\"Number of {} : {}\".format(i, angle_db.count(i)))"
   ]
  },
  {
   "cell_type": "markdown",
   "metadata": {},
   "source": [
    "======================================="
   ]
  },
  {
   "cell_type": "code",
   "execution_count": null,
   "metadata": {},
   "outputs": [],
   "source": [
    "class My_loss_function(nn.Module):\n",
    "    \n",
    "    def __init__(self):\n",
    "        super(My_loss_function, self).__init__()\n",
    "        \n",
    "    def forward(self, output, labels):\n",
    "        labels = labels.view(-1)"
   ]
  },
  {
   "cell_type": "code",
   "execution_count": null,
   "metadata": {},
   "outputs": [],
   "source": []
  },
  {
   "cell_type": "code",
   "execution_count": null,
   "metadata": {},
   "outputs": [],
   "source": []
  },
  {
   "cell_type": "code",
   "execution_count": 11,
   "metadata": {
    "collapsed": true,
    "jupyter": {
     "outputs_hidden": true
    }
   },
   "outputs": [
    {
     "ename": "NameError",
     "evalue": "name 'dataset_train' is not defined",
     "output_type": "error",
     "traceback": [
      "\u001b[0;31m---------------------------------------------------------------------------\u001b[0m",
      "\u001b[0;31mNameError\u001b[0m                                 Traceback (most recent call last)",
      "\u001b[0;32m<ipython-input-11-f03af0aa9d4f>\u001b[0m in \u001b[0;36m<module>\u001b[0;34m\u001b[0m\n\u001b[1;32m      4\u001b[0m \u001b[0mfig\u001b[0m \u001b[0;34m=\u001b[0m \u001b[0mplt\u001b[0m\u001b[0;34m.\u001b[0m\u001b[0mfigure\u001b[0m\u001b[0;34m(\u001b[0m\u001b[0;34m)\u001b[0m\u001b[0;34m\u001b[0m\u001b[0;34m\u001b[0m\u001b[0m\n\u001b[1;32m      5\u001b[0m \u001b[0;34m\u001b[0m\u001b[0m\n\u001b[0;32m----> 6\u001b[0;31m \u001b[0;32mfor\u001b[0m \u001b[0mi\u001b[0m \u001b[0;32min\u001b[0m \u001b[0mrange\u001b[0m\u001b[0;34m(\u001b[0m\u001b[0mlen\u001b[0m\u001b[0;34m(\u001b[0m\u001b[0mdataset_train\u001b[0m\u001b[0;34m)\u001b[0m\u001b[0;34m)\u001b[0m\u001b[0;34m:\u001b[0m\u001b[0;34m\u001b[0m\u001b[0;34m\u001b[0m\u001b[0m\n\u001b[0m\u001b[1;32m      7\u001b[0m     \u001b[0msample\u001b[0m \u001b[0;34m=\u001b[0m \u001b[0mdataset_train\u001b[0m\u001b[0;34m[\u001b[0m\u001b[0mi\u001b[0m\u001b[0;34m+\u001b[0m\u001b[0;36m10\u001b[0m\u001b[0;34m]\u001b[0m\u001b[0;34m\u001b[0m\u001b[0;34m\u001b[0m\u001b[0m\n\u001b[1;32m      8\u001b[0m \u001b[0;34m\u001b[0m\u001b[0m\n",
      "\u001b[0;31mNameError\u001b[0m: name 'dataset_train' is not defined"
     ]
    },
    {
     "data": {
      "text/plain": [
       "<Figure size 432x288 with 0 Axes>"
      ]
     },
     "metadata": {},
     "output_type": "display_data"
    }
   ],
   "source": [
    "#dataset_train = centriole_dataset(img_db = x_train, angle_db = y_train)\n",
    "import matplotlib.pyplot as plt\n",
    "\n",
    "fig = plt.figure()\n",
    "\n",
    "for i in range(len(dataset_train)):\n",
    "    sample = dataset_train[i+10]\n",
    "\n",
    "    ax = plt.subplot(1, 4, i + 1)\n",
    "    plt.tight_layout()\n",
    "    ax.set_title('angle {}°'.format(int(sample['angle'])))\n",
    "    ax.axis('off')\n",
    "    show_centriole(np.array(sample['image'], dtype = 'uint8'))\n",
    "\n",
    "    if i == 3:\n",
    "        plt.show()\n",
    "        break\n"
   ]
  },
  {
   "cell_type": "code",
   "execution_count": null,
   "metadata": {},
   "outputs": [],
   "source": [
    "dataset_test = centriole_dataset(img_db = x_test, angle_db = y_test)\n",
    "\n",
    "\n",
    "fig = plt.figure()\n",
    "\n",
    "for i in range(len(dataset_test)):\n",
    "    sample = dataset_test[i+10]\n",
    "\n",
    "    ax = plt.subplot(1, 4, i + 1)\n",
    "    plt.tight_layout()\n",
    "    ax.set_title('angle {}°'.format(int(sample['angle'])))\n",
    "    ax.axis('off')\n",
    "    show_centriole(np.array(sample['image'], dtype = 'uint8'))\n",
    "\n",
    "    if i == 3:\n",
    "        plt.show()\n",
    "        break\n"
   ]
  },
  {
   "cell_type": "code",
   "execution_count": null,
   "metadata": {},
   "outputs": [],
   "source": []
  }
 ],
 "metadata": {
  "kernelspec": {
   "display_name": "Python 3",
   "language": "python",
   "name": "python3"
  },
  "language_info": {
   "codemirror_mode": {
    "name": "ipython",
    "version": 3
   },
   "file_extension": ".py",
   "mimetype": "text/x-python",
   "name": "python",
   "nbconvert_exporter": "python",
   "pygments_lexer": "ipython3",
   "version": "3.8.5"
  }
 },
 "nbformat": 4,
 "nbformat_minor": 4
}
