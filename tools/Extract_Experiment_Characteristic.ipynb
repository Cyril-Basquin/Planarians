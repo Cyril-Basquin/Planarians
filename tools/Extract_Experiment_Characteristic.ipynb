{
 "cells": [
  {
   "cell_type": "code",
   "execution_count": 1,
   "metadata": {},
   "outputs": [],
   "source": [
    "# Image processing\n",
    "from PIL import Image\n",
    "import numpy as np\n",
    "import math\n",
    "\n",
    "import json\n",
    "\n",
    "# for working on excel file\n",
    "import xlrd  \n",
    "\n",
    "# To get a list of the file in a folder\n",
    "from glob import glob  "
   ]
  },
  {
   "cell_type": "code",
   "execution_count": 2,
   "metadata": {},
   "outputs": [],
   "source": [
    "run_exemple = True"
   ]
  },
  {
   "cell_type": "code",
   "execution_count": 3,
   "metadata": {},
   "outputs": [],
   "source": [
    "def get_value_in_col(xls_sheet, col, starting_line):\n",
    "    line = starting_line\n",
    "    value = xls_sheet.cell_value(line, col)\n",
    "    value_list = []\n",
    "    \n",
    "    while value != '':\n",
    "        value_list.append(value)\n",
    "        line += 1\n",
    "        value = xls_sheet.cell_value(line, col)\n",
    "    \n",
    "    return value_list"
   ]
  },
  {
   "cell_type": "code",
   "execution_count": 4,
   "metadata": {},
   "outputs": [],
   "source": [
    "def get_xls_values(xls_file_name):\n",
    "    \"\"\"Function that extract all informations from the excel file on which worms and microscopy characteristics are stored:\n",
    "        -midline\n",
    "        -edge\n",
    "        -magnification\n",
    "        -worm orientation\n",
    "        -image_shift (if the analysis with ImageJ has been performed on the 63x/100x magnification directly or on the 10x-63/100x overlap)\n",
    "        -worm integrity: is the worm full? Head? Body? Tail?\n",
    "        ...\n",
    "    \"\"\"\n",
    "    with xlrd.open_workbook(xls_file_name) as xls_file:\n",
    "        \n",
    "        xls_sheet = xls_file.sheet_by_index(0)\n",
    "        xls_sheet_2 = xls_file.sheet_by_index(1)\n",
    "        \n",
    "\n",
    "        dataset = {'file_name': xls_file_name[xls_file_name.find(\"\\\\\")+1:],\n",
    "                   'image_shift' : { 'x' : xls_sheet.cell_value(0, 8) ,\n",
    "                                     'y' : xls_sheet.cell_value(0, 8)},\n",
    "                   'worm_midline' : { 'x' : get_value_in_col(xls_sheet, 7 , 11),\n",
    "                                      'y' : get_value_in_col(xls_sheet, 8 , 11)},\n",
    "                   'worm_edge' : { 'x' : get_value_in_col(xls_sheet, 11 , 11) ,\n",
    "                                   'y' : get_value_in_col(xls_sheet, 12 , 11)},\n",
    "                   'worm_orientation'            : xls_sheet.cell_value(1, 3),\n",
    "                   'microscope_magnification'    : xls_sheet.cell_value(0, 3),\n",
    "                   'microscope_pixel_size_in_nm' : xls_sheet.cell_value(0, 4),\n",
    "                   'image_magnification'         : xls_sheet.cell_value(2, 3), \n",
    "                   'image_pixel_size_in_um'      : xls_sheet.cell_value(2, 4), \n",
    "                   'worm_integrity'              : xls_sheet.cell_value(0, 12),\n",
    "                   'fit_edge_and_midline'        : xls_sheet.cell_value(1, 12),\n",
    "                   'optional_width'              : xls_sheet.cell_value(1, 12),\n",
    "                   'approximate_real_distance'   : xls_sheet_2.cell_value(0, 3),\n",
    "                   'approximative_length/with'   : xls_sheet_2.cell_value(1, 1),\n",
    "                   'left-right_difference'       : xls_sheet_2.cell_value(0, 15)}\n",
    "        \n",
    "        print(dataset['file_name'])\n",
    "        \n",
    "        return dataset\n",
    "    "
   ]
  },
  {
   "cell_type": "code",
   "execution_count": 5,
   "metadata": {},
   "outputs": [],
   "source": [
    "# List all .xlsm files (contain BB coordinate and orientation) in the folder 'data'\n",
    "if run_exemple == True:\n",
    "    xls_list = glob(\"./exemple/*.xlsm\")\n",
    "else:\n",
    "    xls_list = glob(\"./*.xlsm\")\n",
    "\n",
    "for xls_name in xls_list:\n",
    "    dataset = get_xls_values(xls_name)\n",
    "    \n",
    "    with open((dataset['file_name'] + '.json'), 'w') as output: ## Verifier que les fichiers tif se finissent bien en '.tif'\n",
    "        json.dump(dataset, output)"
   ]
  },
  {
   "cell_type": "code",
   "execution_count": 6,
   "metadata": {},
   "outputs": [
    {
     "ename": "NameError",
     "evalue": "name 'dataset' is not defined",
     "output_type": "error",
     "traceback": [
      "\u001b[0;31m---------------------------------------------------------------------------\u001b[0m",
      "\u001b[0;31mNameError\u001b[0m                                 Traceback (most recent call last)",
      "\u001b[0;32m<ipython-input-6-12ac885085ee>\u001b[0m in \u001b[0;36m<module>\u001b[0;34m\u001b[0m\n\u001b[1;32m      1\u001b[0m \u001b[0;31m## Extract Parameter of the midline\u001b[0m\u001b[0;34m\u001b[0m\u001b[0;34m\u001b[0m\u001b[0;34m\u001b[0m\u001b[0m\n\u001b[1;32m      2\u001b[0m \u001b[0;34m\u001b[0m\u001b[0m\n\u001b[0;32m----> 3\u001b[0;31m \u001b[0;32mif\u001b[0m \u001b[0mdataset\u001b[0m\u001b[0;34m[\u001b[0m\u001b[0;34m'worm_orientation'\u001b[0m\u001b[0;34m]\u001b[0m \u001b[0;34m==\u001b[0m \u001b[0;34m'right'\u001b[0m \u001b[0;32mor\u001b[0m \u001b[0mdataset\u001b[0m\u001b[0;34m[\u001b[0m\u001b[0;34m'worm_orientation'\u001b[0m\u001b[0;34m]\u001b[0m \u001b[0;34m==\u001b[0m \u001b[0;34m'droite'\u001b[0m\u001b[0;34m:\u001b[0m\u001b[0;34m\u001b[0m\u001b[0;34m\u001b[0m\u001b[0m\n\u001b[0m\u001b[1;32m      4\u001b[0m     \u001b[0mprint\u001b[0m\u001b[0;34m(\u001b[0m\u001b[0;34m'right'\u001b[0m\u001b[0;34m)\u001b[0m\u001b[0;34m\u001b[0m\u001b[0;34m\u001b[0m\u001b[0m\n\u001b[1;32m      5\u001b[0m \u001b[0;34m\u001b[0m\u001b[0m\n",
      "\u001b[0;31mNameError\u001b[0m: name 'dataset' is not defined"
     ]
    }
   ],
   "source": [
    "## Extract Parameter of the midline\n",
    "\n",
    "if dataset['worm_orientation'] == 'right' or dataset['worm_orientation'] == 'droite':\n",
    "    print('right')\n",
    "  \n",
    "\n",
    "elif dataset['worm_orientation'] == 'left' or dataset['worm_orientation'] == 'gauche':\n",
    "    print('left')\n",
    "    \n",
    "else:\n",
    "    raise ValueError('This orientation of the worm is not clear: is it left or right?')\n"
   ]
  }
 ],
 "metadata": {
  "kernelspec": {
   "display_name": "Python 3",
   "language": "python",
   "name": "python3"
  },
  "language_info": {
   "codemirror_mode": {
    "name": "ipython",
    "version": 3
   },
   "file_extension": ".py",
   "mimetype": "text/x-python",
   "name": "python",
   "nbconvert_exporter": "python",
   "pygments_lexer": "ipython3",
   "version": "3.8.3"
  }
 },
 "nbformat": 4,
 "nbformat_minor": 4
}
