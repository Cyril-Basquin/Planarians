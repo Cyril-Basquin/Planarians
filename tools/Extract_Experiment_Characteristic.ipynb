{
 "cells": [
  {
   "cell_type": "code",
   "execution_count": 1,
   "metadata": {},
   "outputs": [],
   "source": [
    "# Image processing\n",
    "from PIL import Image\n",
    "import numpy as np\n",
    "import math\n",
    "\n",
    "import json\n",
    "\n",
    "# for working on excel file\n",
    "import xlrd  \n",
    "\n",
    "# To get a list of the file in a folder\n",
    "from glob import glob  "
   ]
  },
  {
   "cell_type": "code",
   "execution_count": 2,
   "metadata": {},
   "outputs": [],
   "source": [
    "run_exemple = True"
   ]
  },
  {
   "cell_type": "code",
   "execution_count": 3,
   "metadata": {},
   "outputs": [],
   "source": [
    "def get_value_in_col(xls_sheet, col, starting_line):\n",
    "    line = starting_line\n",
    "    value = xls_sheet.cell_value(line, col)\n",
    "    value_list = []\n",
    "    \n",
    "    while value != '':\n",
    "        value_list.append(value)\n",
    "        line += 1\n",
    "        value = xls_sheet.cell_value(line, col)\n",
    "    \n",
    "    return value_list"
   ]
  },
  {
   "cell_type": "code",
   "execution_count": 4,
   "metadata": {},
   "outputs": [],
   "source": [
    "def get_xls_values(xls_file_name):\n",
    "    \"\"\"Function that extract all informations from the excel file on which worms and microscopy characteristics are stored:\n",
    "        -midline\n",
    "        -edge\n",
    "        -magnification\n",
    "        -worm orientation\n",
    "        -image_shift (if the analysis with ImageJ has been performed on the 63x/100x magnification directly or on the 10x-63/100x overlap)\n",
    "        -worm integrity: is the worm full? Head? Body? Tail?\n",
    "        ...\n",
    "    \"\"\"\n",
    "    with xlrd.open_workbook(xls_file_name) as xls_file:\n",
    "        \n",
    "        xls_sheet = xls_file.sheet_by_index(0)\n",
    "        xls_sheet_2 = xls_file.sheet_by_index(1)\n",
    "        \n",
    "\n",
    "        dataset = {'file_name': xls_file_name[xls_file_name.find(\"\\\\\")+1:],\n",
    "                   'image_shift' : { 'x' : xls_sheet.cell_value(0, 8) ,\n",
    "                                     'y' : xls_sheet.cell_value(1, 8)},\n",
    "                   'worm_midline' : { 'x' : get_value_in_col(xls_sheet, 7 , 11),\n",
    "                                      'y' : get_value_in_col(xls_sheet, 8 , 11)},\n",
    "                   'worm_edge' : { 'x' : get_value_in_col(xls_sheet, 11 , 11) ,\n",
    "                                   'y' : get_value_in_col(xls_sheet, 12 , 11)},\n",
    "                   'worm_orientation'            : xls_sheet.cell_value(1, 3),\n",
    "                   'microscope_magnification'    : xls_sheet.cell_value(0, 3),\n",
    "                   'microscope_pixel_size_in_nm' : xls_sheet.cell_value(0, 4),\n",
    "                   'image_magnification'         : xls_sheet.cell_value(2, 3), \n",
    "                   'image_pixel_size_in_um'      : xls_sheet.cell_value(2, 4), \n",
    "                   'worm_integrity'              : xls_sheet.cell_value(0, 12),\n",
    "                   'fit_edge_and_midline'        : xls_sheet.cell_value(1, 12),\n",
    "                   'optional_width'              : xls_sheet.cell_value(1, 12),\n",
    "                   'approximate_real_distance'   : xls_sheet_2.cell_value(0, 3),\n",
    "                   'approximative_length/with'   : xls_sheet_2.cell_value(1, 1),\n",
    "                   'left-right_difference'       : xls_sheet_2.cell_value(0, 15)}\n",
    "        \n",
    "        return dataset\n",
    "    "
   ]
  }
 ],
 "metadata": {
  "kernelspec": {
   "display_name": "Python 3",
   "language": "python",
   "name": "python3"
  },
  "language_info": {
   "codemirror_mode": {
    "name": "ipython",
    "version": 3
   },
   "file_extension": ".py",
   "mimetype": "text/x-python",
   "name": "python",
   "nbconvert_exporter": "python",
   "pygments_lexer": "ipython3",
   "version": "3.8.5"
  }
 },
 "nbformat": 4,
 "nbformat_minor": 4
}
