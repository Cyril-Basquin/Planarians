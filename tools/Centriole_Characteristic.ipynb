{
 "cells": [
  {
   "cell_type": "code",
   "execution_count": 1,
   "metadata": {},
   "outputs": [
    {
     "name": "stdout",
     "output_type": "stream",
     "text": [
      "importing Jupyter notebook from ToolBox.ipynb\n",
      "importing Jupyter notebook from Midline_Edge_Reformater.ipynb\n"
     ]
    }
   ],
   "source": [
    "import import_ipynb\n",
    "\n",
    "from tools.ToolBox import *\n",
    "from tools.Midline_Edge_Reformater import *"
   ]
  },
  {
   "cell_type": "code",
   "execution_count": 2,
   "metadata": {},
   "outputs": [],
   "source": [
    "def distance_point_segment(point_a, point_b, point_c):\n",
    "    \"\"\"\n",
    "    A function that give both lateral and longitudinal absolute distance between a point and a segment/line and the smallest distance between a point and a segment.\n",
    "    Note: the longitudinale distance can be negative if the projection of the point on the line bc is located 'before' the segment bc.\n",
    "    In experimental condition, this might happen when midline do not fit perfectly the worm a the \"start\" (= tail)\n",
    "    \n",
    "    The Function return:\n",
    "        -> seg_dist: The minimal distance between a point and a segment bc\n",
    "        -> lateral_dist: the distance between the point a and its projection on the line bc \n",
    "        -> longitudinal: the distance between the point b (considered here as the \"start\" of the segment) and the projection of point a\n",
    "        \n",
    "    Arguments:\n",
    "        -> point_a: X & Y coordinates of the point of interest\n",
    "        -> point_b: X & Y coordinates of a segment\n",
    "        -> point_c: X & Y cooridnates of a segment\"\"\"\n",
    "    \n",
    "    slope, origin = get_segment_slope_and_origin((point_b, point_c))\n",
    "    proj_a_on_bc = orthogonal_projection(point_a, slope, origin)\n",
    "    \n",
    "    \n",
    "    proj_a_to_b = segment_length(proj_a_on_bc, point_b)\n",
    "    proj_a_to_c = segment_length(proj_a_on_bc, point_b)\n",
    "    b_to_c = segment_length(point_b, point_c)\n",
    "    \n",
    "    \n",
    "    if (proj_a_to_b + proj_a_to_c) > b_to_c:\n",
    "        if proj_a_to_c > proj_a_to_b:\n",
    "            seg_dist = segment_length(point_a, point_b)\n",
    "            longitudinal_dist = - segment_length(point_b, proj_a_on_bc)\n",
    "        else: \n",
    "            seg_dist = segment_length(point_a, point_c)\n",
    "            longitudinal_dist = segment_length(point_b, proj_a_on_bc)\n",
    "         \n",
    "    else: \n",
    "        seg_dist = segment_length(point_a, proj_a_on_bc)\n",
    "        longitudinal_dist = segment_length(point_b, proj_a_on_bc)\n",
    "        \n",
    "    lateral_dist = segment_length(point_a, proj_a_on_bc)\n",
    "    \n",
    "    \n",
    "    if proj_a_to_b[1] > point_a[1]:\n",
    "        centr_side = 'right'\n",
    "    else:\n",
    "        centr_side = 'left'\n",
    "    \n",
    "    \n",
    "    return seg_dist, lateral_dist, longitudinal_dist, centr_side"
   ]
  },
  {
   "cell_type": "code",
   "execution_count": 3,
   "metadata": {},
   "outputs": [],
   "source": [
    "# This function need to accept \n",
    "\n",
    "def centriole_characterizator(a_centriole_coord, a_segment_list):\n",
    "    \"\"\"Function that compute the closest distance between a point and multiple segments and keep the smallest one\n",
    "    Arguments:\n",
    "        -> a_centriole_coord: X & Y coordinates of a point\n",
    "        -> a_segment_list: a list of slope and origin\"\"\"\n",
    "    \n",
    "    index = 0\n",
    "    dist = 99999999999999999999999\n",
    "    \n",
    "    # find the segment closest to a point + return some characteristics\n",
    "    for segment in a_segment_list:\n",
    "        new_dist, new_lateral_dist, new_long_dist, new_centr_side = distance_point_segment(a_centriole_coord, segment[1], segment[2])\n",
    "\n",
    "        if new_dist <= dist:\n",
    "            seg_index = segment[0]\n",
    "            dist, lateral_dist, long_dist, centr_side = new_dist, new_lateral_dist, new_long_dist, new_centr_side \n",
    "    \n",
    "    # COMPUTE THE RELATIVE LATERAL DISTANCE\n",
    "    # get the relative distance (longitudinal distance - total segment distance)\n",
    "    sub_seg_dist = long_dist - a_segment_list[seg_index][4]\n",
    "    \n",
    "    # create length list for sub_segmen\n",
    "    sub_list = []\n",
    "    [sub_list.append(ele[0]) for ele in a_segment_list[-1]]\n",
    "    \n",
    "    # search in the list the closest to sub_seg_dist\n",
    "    idx_sub_seg = min(range(len(sub_list)), key=lambda x:abs(sub_list[x]-sub_seg_dist[1]))\n",
    "    \n",
    "    if a_segment_list[-1][idx_sub_seg][1][1] == centr_side:\n",
    "        lateral_rel = lateral_dist/a_segment_list[-1][idx_sub_reg][1][0]\n",
    "    \n",
    "    else: \n",
    "        lateral_rel = lateral_dist/a_segment_list[-1][idx_sub_reg][2][0]\n",
    "    \n",
    "    # COMPUTE RELATIVE LONGITUDINAL DISTANCE\n",
    "    worm_length = [sum(ele[3]) for ele in a_segment_list]\n",
    "    \n",
    "    longitudinal_rel = longitudinal_dist/worm_length\n",
    "    \n",
    "    \n",
    "    # COMPUTE NEW ANGLE\n",
    "    newAngle = a_centriole_coord[2] - a_segment_list[seg_index][5]\n",
    "    \n",
    "    \n",
    "    return seg_index, lateral_dist, longitudinal_dist, centr_side, lateral_rel, longitudinal_rel, newAngle"
   ]
  }
 ],
 "metadata": {
  "kernelspec": {
   "display_name": "schmidtea",
   "language": "python",
   "name": "schmidtea"
  },
  "language_info": {
   "codemirror_mode": {
    "name": "ipython",
    "version": 3
   },
   "file_extension": ".py",
   "mimetype": "text/x-python",
   "name": "python",
   "nbconvert_exporter": "python",
   "pygments_lexer": "ipython3",
   "version": "3.8.5"
  }
 },
 "nbformat": 4,
 "nbformat_minor": 4
}
