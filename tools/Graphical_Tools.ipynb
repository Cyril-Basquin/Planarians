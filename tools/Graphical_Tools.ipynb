{
 "cells": [
  {
   "cell_type": "code",
   "execution_count": null,
   "metadata": {},
   "outputs": [],
   "source": [
    "import import_ipynb\n",
    "import numpy as np\n",
    "import math\n",
    "import matplotlib.pyplot as plt"
   ]
  },
  {
   "cell_type": "code",
   "execution_count": null,
   "metadata": {},
   "outputs": [],
   "source": []
  },
  {
   "cell_type": "code",
   "execution_count": null,
   "metadata": {},
   "outputs": [],
   "source": [
    "def print_a_antero_posterior_result(a_centriole_list, which_antero_posterior_segment, n_ante_post_segment = 5, a_lat_size = 0.2, a_lat_step = 0.05):\n",
    "    ''' Function that print on a graph all the centriole that belong to an antero-posterior segment\n",
    "    Arguments:\n",
    "        -> a_centriole_list: a list of reoriented centriole generated with the function'''\n",
    "    \n",
    "    moving_average, moving_std = moving_average_angle(reoriented_centriole, \n",
    "                     a_lateral_size = a_lat_size, \n",
    "                     lat_step = a_lat_step, \n",
    "                     a_longitudinal_size = 1/n_ante_post_segment, \n",
    "                     long_step = 1/n_ante_post_segment)\n",
    "    \n",
    "    y_ma_values = moving_average[which_antero_posterior_segment]\n",
    "    y_cstd_values = moving_std[which_antero_posterior_segment]\n",
    "    print(type(y_cstd_values))\n",
    "    \n",
    "    x_ma_values = np.linspace(a_lat_size/2, 1-a_lat_size/2, len(y_ma_values))\n",
    "    \n",
    "    longitudinal_ = which_antero_posterior_segment + 1\n",
    "       \n",
    "    plt.figure(figsize=(15,8))\n",
    "    \n",
    "    plt.plot(x_ma_values, y_ma_values, color = 'k')\n",
    "    plt.fill_between(x_ma_values, (y_ma_values-y_cstd_values), (y_ma_values+y_cstd_values))\n",
    "                     \n",
    "    color_graph = ['orange', 'green', 'purple', 'cyan', 'blue']\n",
    "    for a_centriole in a_centriole_list:\n",
    "        if a_centriole[5] == 'left':\n",
    "            lat = abs(a_centriole[6]-1)\n",
    "        else: \n",
    "            lat = a_centriole[6] + 1\n",
    "        \n",
    "        if int(a_centriole[7]//(1/n_ante_post_segment) +1) == longitudinal_:\n",
    "            plt.plot(lat/2, a_centriole[8], color = color_graph[which_antero_posterior_segment], marker = 'x', markersize = 1)\n",
    "    \n",
    "\n",
    "    plt.title('Individual centriole angle')\n",
    "    plt.xlabel('Left side                   ||                  Right side')\n",
    "    plt.ylabel('Centriole Angle')\n",
    "    \n",
    "    plt.ylim(-180, 180)\n",
    "    plt.xlim(0,1)\n",
    "    \n",
    "    plt.xticks(np.arange(0, 1.01, step = 0.1))\n",
    "    plt.yticks(np.arange(-180, 181, step=30))\n",
    "    \n",
    "    plt.grid(axis ='y', linestyle='--', linewidth=0.5)\n",
    "    plt.vlines(x = 0.5, ymin = -180, ymax = 180,  linestyle='--', linewidth=0.5, color ='r')\n",
    "    \n",
    "    plt.show()"
   ]
  }
 ],
 "metadata": {
  "kernelspec": {
   "display_name": "Python 3",
   "language": "python",
   "name": "python3"
  },
  "language_info": {
   "codemirror_mode": {
    "name": "ipython",
    "version": 3
   },
   "file_extension": ".py",
   "mimetype": "text/x-python",
   "name": "python",
   "nbconvert_exporter": "python",
   "pygments_lexer": "ipython3",
   "version": "3.8.3"
  }
 },
 "nbformat": 4,
 "nbformat_minor": 4
}
