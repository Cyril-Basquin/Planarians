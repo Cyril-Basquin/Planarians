{
 "cells": [
  {
   "cell_type": "markdown",
   "metadata": {},
   "source": [
    "## Summarize the centriole compensation\n",
    "\n",
    "Required input:\n",
    "\n",
    "For the midline: a list of X_coordinate and a list of Y_coordinate\n",
    "\n",
    "For the edge: a list of X_coordinate and a list of Y_coordinate\n",
    "\n",
    "For the centriole: a list of list containing [X_coordinate, Y_coordinate, an angle (in degrees)]"
   ]
  },
  {
   "cell_type": "code",
   "execution_count": 1,
   "metadata": {},
   "outputs": [
    {
     "name": "stdout",
     "output_type": "stream",
     "text": [
      "importing Jupyter notebook from C:\\Users\\Equipe_Azimzadeh\\Desktop\\Planarians\\tools\\Centriole_Characteristic.ipynb\n",
      "importing Jupyter notebook from C:\\Users\\Equipe_Azimzadeh\\Desktop\\Planarians\\tools\\ToolBox.ipynb\n",
      "importing Jupyter notebook from C:\\Users\\Equipe_Azimzadeh\\Desktop\\Planarians\\tools\\Midline_Edge_Reformater.ipynb\n",
      "importing Jupyter notebook from C:\\Users\\Equipe_Azimzadeh\\Desktop\\Planarians\\tools\\Extract_Experiment_Characteristic.ipynb\n",
      "Compensation_de_l-orientation_des_rootlets_V3-2c_160412_Max-10000-rootlets.xlsm\n",
      "right\n",
      "importing Jupyter notebook from C:\\Users\\Equipe_Azimzadeh\\Desktop\\Planarians\\tools\\CNN_Tools.ipynb\n"
     ]
    }
   ],
   "source": [
    "import import_ipynb\n",
    "\n",
    "from tools.Centriole_Characteristic import *\n",
    "from tools.Extract_Experiment_Characteristic import *\n",
    "from tools.CNN_Tools import *\n"
   ]
  },
  {
   "cell_type": "code",
   "execution_count": 2,
   "metadata": {},
   "outputs": [
    {
     "name": "stdout",
     "output_type": "stream",
     "text": [
      "./data_excel_example/150518_Smed-Unc22_Rootletin_100x-1(V3-2c).xlsm\n"
     ]
    }
   ],
   "source": [
    "path = './data_excel_example/150518_Smed-Unc22_Rootletin_100x-1(V3-2c).xlsm'\n",
    "\n",
    "db = get_xls_values(path)\n",
    "\n",
    "x_mid = db['worm_midline']['x']\n",
    "y_mid = db['worm_midline']['y']\n",
    "x_edg = db['worm_edge']['x']\n",
    "y_edg = db['worm_edge']['y']"
   ]
  },
  {
   "cell_type": "code",
   "execution_count": 3,
   "metadata": {},
   "outputs": [
    {
     "ename": "IndexError",
     "evalue": "list index out of range",
     "output_type": "error",
     "traceback": [
      "\u001b[1;31m---------------------------------------------------------------------------\u001b[0m",
      "\u001b[1;31mIndexError\u001b[0m                                Traceback (most recent call last)",
      "\u001b[1;32m<ipython-input-3-78300ec611f6>\u001b[0m in \u001b[0;36m<module>\u001b[1;34m\u001b[0m\n\u001b[0;32m      1\u001b[0m \u001b[1;31m# From a midline and an edge, give as output\u001b[0m\u001b[1;33m\u001b[0m\u001b[1;33m\u001b[0m\u001b[1;33m\u001b[0m\u001b[0m\n\u001b[1;32m----> 2\u001b[1;33m midline_final = aggregate_segment_char(x_mid, y_mid, \n\u001b[0m\u001b[0;32m      3\u001b[0m                                        \u001b[0mx_edg\u001b[0m\u001b[1;33m,\u001b[0m \u001b[0my_edg\u001b[0m\u001b[1;33m,\u001b[0m\u001b[1;33m\u001b[0m\u001b[1;33m\u001b[0m\u001b[0m\n\u001b[0;32m      4\u001b[0m                                        \u001b[0mn_midline_seg\u001b[0m \u001b[1;33m=\u001b[0m \u001b[1;36m50\u001b[0m\u001b[1;33m,\u001b[0m\u001b[1;33m\u001b[0m\u001b[1;33m\u001b[0m\u001b[0m\n\u001b[0;32m      5\u001b[0m                                        \u001b[0mn_sub_segment\u001b[0m \u001b[1;33m=\u001b[0m \u001b[1;36m25\u001b[0m\u001b[1;33m,\u001b[0m\u001b[1;33m\u001b[0m\u001b[1;33m\u001b[0m\u001b[0m\n",
      "\u001b[1;32m~\\Desktop\\Planarians\\tools\\Midline_Edge_Reformater.ipynb\u001b[0m in \u001b[0;36maggregate_segment_char\u001b[1;34m(x_list_midline, y_list_midline, x_list_edge, y_list_edge, n_midline_seg, n_sub_segment, n_edge_seg)\u001b[0m\n",
      "\u001b[1;31mIndexError\u001b[0m: list index out of range"
     ]
    }
   ],
   "source": [
    "# From a midline and an edge, give as output\n",
    "midline_final = aggregate_segment_char(x_mid, y_mid, \n",
    "                                       x_edg, y_edg, \n",
    "                                       n_midline_seg = 50, \n",
    "                                       n_sub_segment = 25, \n",
    "                                       n_edge_seg = 9999)"
   ]
  },
  {
   "cell_type": "code",
   "execution_count": 31,
   "metadata": {},
   "outputs": [],
   "source": [
    "def aggregate_segment_char2(x_list_midline, y_list_midline, x_list_edge, y_list_edge, n_midline_seg = 50, n_sub_segment = 25, n_edge_seg = 9999):\n",
    "    \"\"\"Function that aggregate all usefull data of a midline/edge\n",
    "    Arguments: \n",
    "        -> x_list_midline: a list of X coordinate\n",
    "        -> y_list_midline: a list of Y coordinatesment \n",
    "        -> x_list_edge: a list of X coordinate\n",
    "        -> y_list_edge: a list of Y coordinate\n",
    "        -> n_midline_seg: the number of segment expected in the reformated midline\n",
    "        -> n_sub_segment: the number of segment inside each segment (for lateral precision)\n",
    "        -> n_edge_seg: the number of segment expected in the reformated edge\n",
    "        \n",
    "    The function return for each segment: \n",
    "        -> an index\n",
    "        -> it's origin\n",
    "        -> it's end\n",
    "        -> it's angle\n",
    "        -> it's slope\n",
    "        -> it's cartesian origin (x=0 => y=?)\"\"\"\n",
    "    \n",
    "    midline_ = []\n",
    "    tot_len = 0\n",
    "    \n",
    "    # Reformat the edge data of the worm\n",
    "    edge_seg_list = edge_charac(x_list_edge, y_list_edge, n_edge_seg)\n",
    "\n",
    "    # Reformat the midline data of the worm\n",
    "    newMidline = midline_reformater(x_list_midline, y_list_midline , nb_segment = n_midline_seg)\n",
    "\n",
    "    # iterate in each midline segment\n",
    "    for i in range(len(newMidline)-1):\n",
    "        index = i\n",
    "        point_a = newMidline[i]\n",
    "        point_b = newMidline[i+1]\n",
    "        seg_len = segment_length(point_a, point_b)\n",
    "        tot_len += seg_len\n",
    "        angle   = angle_from_coordinates(point_a, point_b)\n",
    "        slope_origin = get_segment_slope_and_origin((point_a, point_b))\n",
    "        \n",
    "\n",
    "        # segment each midline segment in n_sub_segment\n",
    "        sub_seg_list = sub_segment_char(angle, slope_origin[0][0], slope_origin[0][1], point_a, point_b, seg_len, n_sub_segment)\n",
    "        \n",
    "        print('# for each of the sub_segment, calculate the distance to the edge and its side (with midline as ref and head on right side)')\n",
    "        sub_seg_char = []\n",
    "        for idx, sub_seg in enumerate(sub_seg_list):\n",
    "            print('# get side (left/right) and length of the midline to edge segment')\n",
    "            edge_mid_side_and_distance = segment_intercept(sub_seg, edge_seg_list)\n",
    "            print('# get length of the subsegment')\n",
    "            sub_seg_length = seg_len/n_sub_segment*idx\n",
    "            \n",
    "            print('# Return')\n",
    "            sub_seg_char.append((sub_seg_length, edge_mid_side_and_distance))\n",
    "        \n",
    "        midline_.append([index, point_a, point_b, seg_len, tot_len, angle, slope_origin[0], slope_origin[1], sub_seg_char])\n",
    "    \n",
    "    return midline_"
   ]
  },
  {
   "cell_type": "code",
   "execution_count": 32,
   "metadata": {},
   "outputs": [
    {
     "name": "stdout",
     "output_type": "stream",
     "text": [
      "0.034313773987488534\n",
      "\n",
      "\n",
      "11870.882198719786\n"
     ]
    },
    {
     "ename": "NameError",
     "evalue": "name 'seg_len' is not defined",
     "output_type": "error",
     "traceback": [
      "\u001b[1;31m---------------------------------------------------------------------------\u001b[0m",
      "\u001b[1;31mNameError\u001b[0m                                 Traceback (most recent call last)",
      "\u001b[1;32m<ipython-input-32-0d7dd76edda4>\u001b[0m in \u001b[0;36m<module>\u001b[1;34m\u001b[0m\n\u001b[1;32m----> 1\u001b[1;33m midline_final = aggregate_segment_char2(x_mid, y_mid, \n\u001b[0m\u001b[0;32m      2\u001b[0m                                        \u001b[0mx_edg\u001b[0m\u001b[1;33m,\u001b[0m \u001b[0my_edg\u001b[0m\u001b[1;33m,\u001b[0m\u001b[1;33m\u001b[0m\u001b[1;33m\u001b[0m\u001b[0m\n\u001b[0;32m      3\u001b[0m                                        \u001b[0mn_midline_seg\u001b[0m \u001b[1;33m=\u001b[0m \u001b[1;36m50\u001b[0m\u001b[1;33m,\u001b[0m\u001b[1;33m\u001b[0m\u001b[1;33m\u001b[0m\u001b[0m\n\u001b[0;32m      4\u001b[0m                                        \u001b[0mn_sub_segment\u001b[0m \u001b[1;33m=\u001b[0m \u001b[1;36m25\u001b[0m\u001b[1;33m,\u001b[0m\u001b[1;33m\u001b[0m\u001b[1;33m\u001b[0m\u001b[0m\n\u001b[0;32m      5\u001b[0m                                        n_edge_seg = 9999)\n",
      "\u001b[1;32m<ipython-input-31-04db58db3352>\u001b[0m in \u001b[0;36maggregate_segment_char2\u001b[1;34m(x_list_midline, y_list_midline, x_list_edge, y_list_edge, n_midline_seg, n_sub_segment, n_edge_seg)\u001b[0m\n\u001b[0;32m     42\u001b[0m \u001b[1;33m\u001b[0m\u001b[0m\n\u001b[0;32m     43\u001b[0m         \u001b[1;31m# segment each midline segment in n_sub_segment\u001b[0m\u001b[1;33m\u001b[0m\u001b[1;33m\u001b[0m\u001b[1;33m\u001b[0m\u001b[0m\n\u001b[1;32m---> 44\u001b[1;33m         \u001b[0msub_seg_list\u001b[0m \u001b[1;33m=\u001b[0m \u001b[0msub_segment_char\u001b[0m\u001b[1;33m(\u001b[0m\u001b[0mangle\u001b[0m\u001b[1;33m,\u001b[0m \u001b[0mslope_origin\u001b[0m\u001b[1;33m[\u001b[0m\u001b[1;36m0\u001b[0m\u001b[1;33m]\u001b[0m\u001b[1;33m[\u001b[0m\u001b[1;36m0\u001b[0m\u001b[1;33m]\u001b[0m\u001b[1;33m,\u001b[0m \u001b[0mslope_origin\u001b[0m\u001b[1;33m[\u001b[0m\u001b[1;36m0\u001b[0m\u001b[1;33m]\u001b[0m\u001b[1;33m[\u001b[0m\u001b[1;36m1\u001b[0m\u001b[1;33m]\u001b[0m\u001b[1;33m,\u001b[0m \u001b[0mpoint_a\u001b[0m\u001b[1;33m,\u001b[0m \u001b[0mpoint_b\u001b[0m\u001b[1;33m,\u001b[0m \u001b[0mn_sub_segment\u001b[0m\u001b[1;33m)\u001b[0m\u001b[1;33m\u001b[0m\u001b[1;33m\u001b[0m\u001b[0m\n\u001b[0m\u001b[0;32m     45\u001b[0m \u001b[1;33m\u001b[0m\u001b[0m\n\u001b[0;32m     46\u001b[0m         \u001b[0mprint\u001b[0m\u001b[1;33m(\u001b[0m\u001b[1;34m'# for each of the sub_segment, calculate the distance to the edge and its side (with midline as ref and head on right side)'\u001b[0m\u001b[1;33m)\u001b[0m\u001b[1;33m\u001b[0m\u001b[1;33m\u001b[0m\u001b[0m\n",
      "\u001b[1;32m~\\Desktop\\Planarians\\tools\\Midline_Edge_Reformater.ipynb\u001b[0m in \u001b[0;36msub_segment_char\u001b[1;34m(angle, slope, origin, point_a, point_b, n_sub_segment)\u001b[0m\n",
      "\u001b[1;31mNameError\u001b[0m: name 'seg_len' is not defined"
     ]
    }
   ],
   "source": [
    "midline_final = aggregate_segment_char2(x_mid, y_mid, \n",
    "                                       x_edg, y_edg, \n",
    "                                       n_midline_seg = 50, \n",
    "                                       n_sub_segment = 25, \n",
    "                                       n_edge_seg = 9999)"
   ]
  }
 ],
 "metadata": {
  "kernelspec": {
   "display_name": "Python 3",
   "language": "python",
   "name": "python3"
  },
  "language_info": {
   "codemirror_mode": {
    "name": "ipython",
    "version": 3
   },
   "file_extension": ".py",
   "mimetype": "text/x-python",
   "name": "python",
   "nbconvert_exporter": "python",
   "pygments_lexer": "ipython3",
   "version": "3.8.3"
  }
 },
 "nbformat": 4,
 "nbformat_minor": 4
}
