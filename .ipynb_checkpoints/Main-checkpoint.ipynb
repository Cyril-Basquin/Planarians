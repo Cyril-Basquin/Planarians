{
 "cells": [
  {
   "cell_type": "markdown",
   "metadata": {},
   "source": [
    "## Summarize the centriole compensation\n",
    "\n",
    "Required input:\n",
    "\n",
    "For the midline: a list of X_coordinate and a list of Y_coordinate\n",
    "\n",
    "For the edge: a list of X_coordinate and a list of Y_coordinate\n",
    "\n",
    "For the centriole: a list of list containing [X_coordinate, Y_coordinate, an angle (in degrees)]"
   ]
  },
  {
   "cell_type": "code",
   "execution_count": 1,
   "metadata": {},
   "outputs": [
    {
     "name": "stdout",
     "output_type": "stream",
     "text": [
      "importing Jupyter notebook from C:\\Users\\Equipe_Azimzadeh\\Desktop\\Planarians\\tools\\Centriole_Characteristic.ipynb\n",
      "importing Jupyter notebook from C:\\Users\\Equipe_Azimzadeh\\Desktop\\Planarians\\tools\\ToolBox.ipynb\n",
      "importing Jupyter notebook from C:\\Users\\Equipe_Azimzadeh\\Desktop\\Planarians\\tools\\Midline_Edge_Reformater.ipynb\n",
      "importing Jupyter notebook from C:\\Users\\Equipe_Azimzadeh\\Desktop\\Planarians\\tools\\Extract_Experiment_Characteristic.ipynb\n",
      "Compensation_de_l-orientation_des_rootlets_V3-2c_160412_Max-10000-rootlets.xlsm\n",
      "right\n",
      "importing Jupyter notebook from C:\\Users\\Equipe_Azimzadeh\\Desktop\\Planarians\\tools\\CNN_Tools.ipynb\n"
     ]
    }
   ],
   "source": [
    "import import_ipynb\n",
    "\n",
    "from tools.Centriole_Characteristic import *\n",
    "from tools.Extract_Experiment_Characteristic import *\n",
    "from tools.CNN_Tools import *"
   ]
  },
  {
   "cell_type": "code",
   "execution_count": 2,
   "metadata": {},
   "outputs": [
    {
     "name": "stdout",
     "output_type": "stream",
     "text": [
      "./data_excel_example/150518_Smed-Unc22_Rootletin_100x-1(V3-2c).xlsm\n"
     ]
    }
   ],
   "source": [
    "path = './data_excel_example/150518_Smed-Unc22_Rootletin_100x-1(V3-2c).xlsm'\n",
    "\n",
    "db = get_xls_values(path)\n",
    "\n",
    "x_mid = db['worm_midline']['x']\n",
    "y_mid = db['worm_midline']['y']\n",
    "x_edg = db['worm_edge']['x']\n",
    "y_edg = db['worm_edge']['y']"
   ]
  },
  {
   "cell_type": "code",
   "execution_count": 3,
   "metadata": {},
   "outputs": [
    {
     "data": {
      "image/png": "[encoded data removed]",
      "text/plain": [
       "<Figure size 432x288 with 1 Axes>"
      ]
     },
     "metadata": {
      "needs_background": "light"
     },
     "output_type": "display_data"
    }
   ],
   "source": [
    "import matplotlib.pyplot as plt\n",
    "\n",
    "plt.plot(x_mid,y_mid)\n",
    "plt.plot(x_edg,y_edg)\n",
    "\n",
    "plt.title('title name')\n",
    "plt.xlabel('xAxis name')\n",
    "plt.ylabel('yAxis name')\n",
    "plt.show()"
   ]
  },
  {
   "cell_type": "code",
   "execution_count": 4,
   "metadata": {},
   "outputs": [],
   "source": [
    "# From a midline and an edge, give as output\n",
    "midline_final = aggregate_segment_char(x_mid, y_mid, \n",
    "                                       x_edg, y_edg, \n",
    "                                       n_midline_seg = 50, \n",
    "                                       n_sub_segment = 25, \n",
    "                                       n_edge_seg = 200)"
   ]
  },
  {
   "cell_type": "code",
   "execution_count": 5,
   "metadata": {},
   "outputs": [
    {
     "name": "stdout",
     "output_type": "stream",
     "text": [
      "oulala\n"
     ]
    },
    {
     "ename": "IndexError",
     "evalue": "tuple index out of range",
     "output_type": "error",
     "traceback": [
      "\u001b[1;31m---------------------------------------------------------------------------\u001b[0m",
      "\u001b[1;31mIndexError\u001b[0m                                Traceback (most recent call last)",
      "\u001b[1;32m<ipython-input-5-9fbfc6a47b8f>\u001b[0m in \u001b[0;36m<module>\u001b[1;34m\u001b[0m\n\u001b[0;32m      3\u001b[0m \u001b[1;33m\u001b[0m\u001b[0m\n\u001b[0;32m      4\u001b[0m \u001b[1;32mfor\u001b[0m \u001b[0ma_centriole\u001b[0m \u001b[1;32min\u001b[0m \u001b[0ma_list_of_centriole\u001b[0m\u001b[1;33m:\u001b[0m\u001b[1;33m\u001b[0m\u001b[1;33m\u001b[0m\u001b[0m\n\u001b[1;32m----> 5\u001b[1;33m     \u001b[0mtest\u001b[0m\u001b[1;33m.\u001b[0m\u001b[0mappend\u001b[0m\u001b[1;33m(\u001b[0m\u001b[0mcentriole_characterizator\u001b[0m\u001b[1;33m(\u001b[0m\u001b[0ma_centriole\u001b[0m\u001b[1;33m,\u001b[0m \u001b[0mmidline_final\u001b[0m\u001b[1;33m)\u001b[0m\u001b[1;33m)\u001b[0m\u001b[1;33m\u001b[0m\u001b[1;33m\u001b[0m\u001b[0m\n\u001b[0m\u001b[0;32m      6\u001b[0m \u001b[1;33m\u001b[0m\u001b[0m\n",
      "\u001b[1;32m~\\Desktop\\Planarians\\tools\\Centriole_Characteristic.ipynb\u001b[0m in \u001b[0;36mcentriole_characterizator\u001b[1;34m(a_centriole_coord, a_segment_list)\u001b[0m\n",
      "\u001b[1;31mIndexError\u001b[0m: tuple index out of range"
     ]
    }
   ],
   "source": [
    "a_list_of_centriole = [((5800, 13000), 50), ((5900, 11000), 50)]\n",
    "test = []\n",
    "\n",
    "for a_centriole in a_list_of_centriole:\n",
    "    test.append(centriole_characterizator(a_centriole, midline_final))\n",
    "     "
   ]
  },
  {
   "cell_type": "markdown",
   "metadata": {},
   "source": [
    "+++++++++++++++++++++++++++++++++++++++++++++++++++++++++++++"
   ]
  },
  {
   "cell_type": "code",
   "execution_count": 19,
   "metadata": {},
   "outputs": [
    {
     "name": "stdout",
     "output_type": "stream",
     "text": [
      "23675.585014847267\n",
      "23675.585014847267\n"
     ]
    }
   ],
   "source": [
    "a_segment_list = midline_final\n",
    "lateral_dist = 20\n",
    "\n",
    "\n",
    "print(a_segment_list[-1][4]+a_segment_list[-1][3])\n",
    "\n",
    "test = []\n",
    "[test.append(ele[3]) for ele in a_segment_list]\n",
    "print(sum(test))\n",
    "\n"
   ]
  },
  {
   "cell_type": "code",
   "execution_count": null,
   "metadata": {},
   "outputs": [],
   "source": []
  },
  {
   "cell_type": "code",
   "execution_count": 14,
   "metadata": {},
   "outputs": [
    {
     "name": "stdout",
     "output_type": "stream",
     "text": [
      "[3, (4610.852713178295, 12019.536434108526), (5075.299224806202, 12022.446511627906), 464.45562835915814, 1431.4258223829775, 89.64100714754179, 0.006265689259200545, 11990.646263787808, [(0.0, [['left', 1490.0661189557466], ['right', 2361.208490827175]]), (18.578225134366324, [['left', 1496.8978961586495], ['right', 2369.5916705454015]]), (37.15645026873265, [['left', 1503.7296733615522], ['right', 2377.9748502636294]]), (55.734675403098976, [['left', 1509.6844298781089], ['right', 2386.358029981854]]), (74.3129005374653, [['left', 1515.50381522966], ['right', 2394.7412097000824]]), (92.89112567183162, [['left', 1521.3232005812113], ['right', 2403.1243894183085]]), (111.46935080619795, [['left', 1527.1425859327624], ['right', 2411.507569136537]]), (130.04757594056426, [['left', 1532.9619712843155], ['right', 2419.890748854761]]), (148.6258010749306, [['left', 1538.7813566358684], ['right', 2428.2739285729895]]), (167.20402620929693, [['left', 1544.6007419874197], ['right', 2436.657108291218]]), (185.78225134366323, [['left', 1550.4201273389706], ['right', 2444.499760951758]]), (204.36047647802957, [['left', 1556.2395126905237], ['right', 2452.051948728258]]), (222.9387016123959, [['left', 1562.0588980420748], ['right', 2459.6041365047577]]), (241.5169267467622, [['left', 1567.8782833936261], ['right', 2467.1563242812576]]), (260.0951518811285, [['left', 1573.6976687451788], ['right', 2474.7085120577594]]), (278.67337701549485, [['left', 1579.5170540967317], ['right', 2482.2606998342576]]), (297.2516021498612, [['left', 1585.336439448283], ['right', 2489.812887610759]]), (315.8298272842275, [['left', 1590.3671622764314], ['right', 2497.365075387259]]), (334.40805241859385, [['left', 1595.1816618959622], ['right', 2504.9172631637603]]), (352.98627755296013, [['left', 1599.9961615154928], ['right', 2512.4694509402584]]), (371.56450268732647, [['left', 1604.8106611350215], ['right', 2520.0216387167598]]), (390.1427278216928, [['left', 1609.6251607545523], ['right', 2527.5738264932597]]), (408.72095295605914, [['left', 1614.4396603740813], ['right', 2535.0530096971256]]), (427.29917809042547, [['left', 1619.254159993612], ['right', 2542.0316134281966]]), (445.8774032247918, [['left', 1624.0686596131407], ['right', 2549.010217159267]]), (464.4556283591581, [['left', 1628.8831592326712], ['right', 2555.98882089034]])]]\n"
     ]
    }
   ],
   "source": []
  },
  {
   "cell_type": "code",
   "execution_count": 11,
   "metadata": {},
   "outputs": [
    {
     "data": {
      "text/plain": [
       "(19.56019771255934,\n",
       " [['right', 3620.6123326333714], ['left', 3965.697109557691]])"
      ]
     },
     "execution_count": 11,
     "metadata": {},
     "output_type": "execute_result"
    }
   ],
   "source": [
    "if a_segment_list[seg_index][-1][idx_sub_seg][1][1][0] == centr_side:\n",
    "    lateral_rel = lateral_dist/(a_segment_list[-1][idx_sub_seg][1][0])"
   ]
  },
  {
   "cell_type": "code",
   "execution_count": null,
   "metadata": {},
   "outputs": [],
   "source": [
    "point_a = (5800, 13000)\n",
    "point_b = midline_final[5][1]\n",
    "point_c = midline_final[5][2]\n",
    "point_d = (point_b, point_c)\n",
    "\n",
    "print(point_d)"
   ]
  },
  {
   "cell_type": "code",
   "execution_count": 8,
   "metadata": {},
   "outputs": [],
   "source": [
    "a_segment_list = midline_final"
   ]
  },
  {
   "cell_type": "code",
   "execution_count": 17,
   "metadata": {},
   "outputs": [
    {
     "data": {
      "text/plain": [
       "[None,\n",
       " None,\n",
       " None,\n",
       " None,\n",
       " None,\n",
       " None,\n",
       " None,\n",
       " None,\n",
       " None,\n",
       " None,\n",
       " None,\n",
       " None,\n",
       " None,\n",
       " None,\n",
       " None,\n",
       " None,\n",
       " None,\n",
       " None,\n",
       " None,\n",
       " None,\n",
       " None,\n",
       " None,\n",
       " None,\n",
       " None,\n",
       " None,\n",
       " None]"
      ]
     },
     "execution_count": 17,
     "metadata": {},
     "output_type": "execute_result"
    }
   ],
   "source": [
    "sub_list = []\n",
    "[sub_list.append(ele[0]) for ele in a_segment_list[20][-1]]"
   ]
  },
  {
   "cell_type": "code",
   "execution_count": 15,
   "metadata": {},
   "outputs": [
    {
     "data": {
      "text/plain": [
       "[470.40227115026005,\n",
       " 475.44866810987236,\n",
       " 485.5748831228449,\n",
       " 464.45562835915814,\n",
       " 481.77070963026773,\n",
       " 461.07962401727684,\n",
       " 473.060202124893,\n",
       " 480.92890399358737,\n",
       " 444.28598072492605,\n",
       " 484.6719957134738,\n",
       " 480.81844476716617,\n",
       " 474.4929097862398,\n",
       " 469.7091897902134,\n",
       " 467.051493633911,\n",
       " 466.4151426059062,\n",
       " 467.7089929796697,\n",
       " 470.8880595299642,\n",
       " 475.48832645695927,\n",
       " 480.1551649157687,\n",
       " 484.6408598670779,\n",
       " 489.0049428139835,\n",
       " 452.05900648281346,\n",
       " 455.7580625808777,\n",
       " 501.57163575038254,\n",
       " 463.69407857173957,\n",
       " 467.1105530568921,\n",
       " 470.14000731098537,\n",
       " 472.73297187286147,\n",
       " 474.84875823837814,\n",
       " 476.44816203854924,\n",
       " 477.5038976499522,\n",
       " 478.1539793135855,\n",
       " 478.57402896087393,\n",
       " 478.8518300724657,\n",
       " 435.5277147059948,\n",
       " 479.37665128502994,\n",
       " 479.8938149981275,\n",
       " 480.77332266046244,\n",
       " 481.5449843959298,\n",
       " 480.5268982042997,\n",
       " 434.1150953046854,\n",
       " 472.33417065792366,\n",
       " 506.2570144810371,\n",
       " 453.02169524692897,\n",
       " 478.93882866025945,\n",
       " 461.1395695157412,\n",
       " 482.56337153541085,\n",
       " 469.12366962540057,\n",
       " 984.948847576261]"
      ]
     },
     "execution_count": 15,
     "metadata": {},
     "output_type": "execute_result"
    }
   ],
   "source": [
    "sub_list"
   ]
  },
  {
   "cell_type": "code",
   "execution_count": 15,
   "metadata": {},
   "outputs": [],
   "source": [
    "\n",
    "\n",
    "\n",
    "index = 0\n",
    "dist = 99999999999999999999999\n",
    "\n",
    "# find the segment closest to a point + return some characteristics\n",
    "for segment in a_segment_list:\n",
    "    new_dist, new_lateral_dist, new_long_dist, new_centr_side = distance_point_segment(a_centriole_coord, segment[1], segment[2])\n",
    "\n",
    "    if new_dist <= dist:\n",
    "        seg_index = segment[0]\n",
    "        dist, lateral_dist, long_dist, centr_side = new_dist, new_lateral_dist, new_long_dist, new_centr_side \n",
    "\n",
    "# COMPUTE THE RELATIVE LATERAL DISTANCE\n",
    "# get the relative distance (longitudinal distance - total segment distance)\n",
    "sub_seg_dist = long_dist - a_segment_list[seg_index][4]\n",
    "\n",
    "# create length list for sub_segmen\n",
    "sub_list = []\n",
    "print('là')\n",
    "[sub_list.append(ele[0]) for ele in a_segment_list[-1]]\n",
    "print('oulla')\n",
    "# search in the list the closest to sub_seg_dist\n",
    "idx_sub_seg = min(range(len(sub_list)), key=lambda x:abs(sub_list[x]-sub_seg_dist[1]))\n",
    "print('oulala')\n",
    "if a_segment_list[-1][idx_sub_seg][1][1] == centr_side:\n",
    "    lateral_rel = lateral_dist/a_segment_list[-1][idx_sub_reg][1][0]\n",
    "\n",
    "else: \n",
    "    lateral_rel = lateral_dist/a_segment_list[-1][idx_sub_reg][2][0]\n",
    "\n",
    "print('ouencorela')\n",
    "# COMPUTE RELATIVE LONGITUDINAL DISTANCE\n",
    "worm_length = [sum(ele[3]) for ele in a_segment_list]\n",
    "\n",
    "longitudinal_rel = longitudinal_dist/worm_length\n",
    "\n",
    "print('oulala')\n",
    "# COMPUTE NEW ANGLE\n",
    "newAngle = a_centriole_coord[2] - a_segment_list[seg_index][5]\n"
   ]
  },
  {
   "cell_type": "code",
   "execution_count": 16,
   "metadata": {},
   "outputs": [
    {
     "data": {
      "text/plain": [
       "'left'"
      ]
     },
     "execution_count": 16,
     "metadata": {},
     "output_type": "execute_result"
    }
   ],
   "source": [
    "centr_side"
   ]
  },
  {
   "cell_type": "code",
   "execution_count": 11,
   "metadata": {},
   "outputs": [
    {
     "ename": "NameError",
     "evalue": "name 'point_b' is not defined",
     "output_type": "error",
     "traceback": [
      "\u001b[1;31m---------------------------------------------------------------------------\u001b[0m",
      "\u001b[1;31mNameError\u001b[0m                                 Traceback (most recent call last)",
      "\u001b[1;32m<ipython-input-11-61abe1171ebc>\u001b[0m in \u001b[0;36m<module>\u001b[1;34m\u001b[0m\n\u001b[1;32m----> 1\u001b[1;33m \u001b[0mslope_origin\u001b[0m \u001b[1;33m=\u001b[0m \u001b[0mget_segment_slope_and_origin\u001b[0m\u001b[1;33m(\u001b[0m\u001b[1;33m(\u001b[0m\u001b[0mpoint_b\u001b[0m\u001b[1;33m,\u001b[0m \u001b[0mpoint_c\u001b[0m\u001b[1;33m)\u001b[0m\u001b[1;33m)\u001b[0m\u001b[1;33m\u001b[0m\u001b[1;33m\u001b[0m\u001b[0m\n\u001b[0m\u001b[0;32m      2\u001b[0m \u001b[0mproj_a_on_bc\u001b[0m \u001b[1;33m=\u001b[0m \u001b[0morthogonal_projection\u001b[0m\u001b[1;33m(\u001b[0m\u001b[0mpoint_a\u001b[0m\u001b[1;33m,\u001b[0m \u001b[0mslope_origin\u001b[0m\u001b[1;33m[\u001b[0m\u001b[1;36m0\u001b[0m\u001b[1;33m]\u001b[0m\u001b[1;33m,\u001b[0m \u001b[0mslope_origin\u001b[0m\u001b[1;33m[\u001b[0m\u001b[1;36m1\u001b[0m\u001b[1;33m]\u001b[0m\u001b[1;33m)\u001b[0m\u001b[1;33m\u001b[0m\u001b[1;33m\u001b[0m\u001b[0m\n\u001b[0;32m      3\u001b[0m \u001b[1;33m\u001b[0m\u001b[0m\n\u001b[0;32m      4\u001b[0m \u001b[1;33m\u001b[0m\u001b[0m\n\u001b[0;32m      5\u001b[0m \u001b[1;31m#proj_a_to_b = segment_length(proj_a_on_bc, point_b)\u001b[0m\u001b[1;33m\u001b[0m\u001b[1;33m\u001b[0m\u001b[1;33m\u001b[0m\u001b[0m\n",
      "\u001b[1;31mNameError\u001b[0m: name 'point_b' is not defined"
     ]
    }
   ],
   "source": [
    "slope_origin = get_segment_slope_and_origin((point_b, point_c))\n",
    "proj_a_on_bc = orthogonal_projection(point_a, slope_origin[0], slope_origin[1])\n",
    "\n",
    "\n",
    "#proj_a_to_b = segment_length(proj_a_on_bc, point_b)\n",
    "#proj_a_to_c = segment_length(proj_a_on_bc, point_b)\n",
    "#b_to_c = segment_length(point_b, point_c)\n",
    "    "
   ]
  },
  {
   "cell_type": "code",
   "execution_count": 13,
   "metadata": {},
   "outputs": [],
   "source": [
    "output = []\n",
    "segments_coordinates = point_d\n",
    "\n",
    "\n",
    "for i in range(len(segments_coordinates)-1):\n",
    "    a = slope(segments_coordinates[i], segments_coordinates[i+1])\n",
    "    b = origin(segments_coordinates[i], a)\n",
    "\n",
    "    output.append((a, b))\n"
   ]
  },
  {
   "cell_type": "code",
   "execution_count": 15,
   "metadata": {},
   "outputs": [
    {
     "ename": "ValueError",
     "evalue": "not enough values to unpack (expected 2, got 1)",
     "output_type": "error",
     "traceback": [
      "\u001b[1;31m---------------------------------------------------------------------------\u001b[0m",
      "\u001b[1;31mValueError\u001b[0m                                Traceback (most recent call last)",
      "\u001b[1;32m<ipython-input-15-c0621e8640e9>\u001b[0m in \u001b[0;36m<module>\u001b[1;34m\u001b[0m\n\u001b[1;32m----> 1\u001b[1;33m \u001b[0ma\u001b[0m\u001b[1;33m,\u001b[0m \u001b[0mb\u001b[0m \u001b[1;33m=\u001b[0m \u001b[0moutput\u001b[0m\u001b[1;33m\u001b[0m\u001b[1;33m\u001b[0m\u001b[0m\n\u001b[0m",
      "\u001b[1;31mValueError\u001b[0m: not enough values to unpack (expected 2, got 1)"
     ]
    }
   ],
   "source": [
    "a, b = output"
   ]
  },
  {
   "cell_type": "code",
   "execution_count": 12,
   "metadata": {},
   "outputs": [
    {
     "name": "stdout",
     "output_type": "stream",
     "text": [
      "(3180.0000000000005, 11980.0) (3650.125581395349, 11996.131782945737)\n",
      "(3650.125581395349, 11996.131782945737) (4125.370542635659, 12010.048062015503)\n",
      "(4125.370542635659, 12010.048062015503) (4610.852713178295, 12019.536434108526)\n",
      "(4610.852713178295, 12019.536434108526) (5075.299224806202, 12022.446511627906)\n",
      "(5075.299224806202, 12022.446511627906) (5557.048062015503, 12017.855813953487)\n",
      "(5557.048062015503, 12017.855813953487) (6017.9674418604645, 12005.700775193798)\n",
      "(6017.9674418604645, 12005.700775193798) (6490.58449612403, 11985.229457364341)\n",
      "(6490.58449612403, 11985.229457364341) (6970.612403100775, 11955.80465116279)\n",
      "(6970.612403100775, 11955.80465116279) (7413.486821705425, 11920.417054263566)\n",
      "(7413.486821705425, 11920.417054263566) (7895.737984496124, 11872.035658914729)\n",
      "(7895.737984496124, 11872.035658914729) (8372.897674418606, 11812.832558139535)\n",
      "(8372.897674418606, 11812.832558139535) (8842.186046511628, 11742.747286821705)\n",
      "(8842.186046511628, 11742.747286821705) (9305.144186046511, 11663.396899224805)\n",
      "(9305.144186046511, 11663.396899224805) (9764.077519379845, 11576.694573643412)\n",
      "(9764.077519379845, 11576.694573643412) (10221.300775193798, 11484.553488372094)\n",
      "(10221.300775193798, 11484.553488372094) (10679.120930232559, 11388.885271317828)\n",
      "(10679.120930232559, 11388.885271317828) (11139.851162790697, 11291.606201550387)\n",
      "(11139.851162790697, 11291.606201550387) (11605.156589147287, 11193.728682170542)\n",
      "(11605.156589147287, 11193.728682170542) (12074.731782945737, 11093.488372093021)\n",
      "(12074.731782945737, 11093.488372093021) (12547.882170542636, 10988.581395348838)\n",
      "(12547.882170542636, 10988.581395348838) (13023.917829457363, 10876.706976744184)\n",
      "(13023.917829457363, 10876.706976744184) (13462.227906976745, 10766.06511627907)\n",
      "(13462.227906976745, 10766.06511627907) (13901.848062015504, 10645.858914728682)\n",
      "(13901.848062015504, 10645.858914728682) (14382.320930232558, 10501.914728682172)\n",
      "(14382.320930232558, 10501.914728682172) (14823.17519379845, 10358.179844961242)\n",
      "(14823.17519379845, 10358.179844961242) (15264.162790697674, 10204.159689922482)\n",
      "(15264.162790697674, 10204.159689922482) (15705.018604651164, 10040.826356589147)\n",
      "(15705.018604651164, 10040.826356589147) (16145.47906976744, 9869.15503875969)\n",
      "(16145.47906976744, 9869.15503875969) (16585.28372093023, 9690.120930232557)\n",
      "(16585.28372093023, 9690.120930232557) (17024.17054263566, 9504.699224806202)\n",
      "(17024.17054263566, 9504.699224806202) (17461.852713178294, 9313.795348837208)\n",
      "(17461.852713178294, 9313.795348837208) (17897.668217054263, 9117.082170542635)\n",
      "(17897.668217054263, 9117.082170542635) (18330.621705426358, 8913.15968992248)\n",
      "(18330.621705426358, 8913.15968992248) (18759.705426356588, 8700.589147286822)\n",
      "(18759.705426356588, 8700.589147286822) (19145.576744186044, 8498.62945736434)\n",
      "(19145.576744186044, 8498.62945736434) (19564.48062015504, 8265.55968992248)\n",
      "(19564.48062015504, 8265.55968992248) (19976.586046511628, 8019.658914728682)\n",
      "(19976.586046511628, 8019.658914728682) (20380.886821705422, 7759.497674418605)\n",
      "(20380.886821705422, 7759.497674418605) (20776.376744186044, 7484.773643410853)\n",
      "(20776.376744186044, 7484.773643410853) (21162.03100775194, 7198.108527131783)\n",
      "(21162.03100775194, 7198.108527131783) (21503.241860465117, 6929.722480620156)\n",
      "(21503.241860465117, 6929.722480620156) (21867.299224806204, 6628.787596899225)\n",
      "(21867.299224806204, 6628.787596899225) (22249.82945736434, 6297.175193798449)\n",
      "(22249.82945736434, 6297.175193798449) (22585.96899224806, 5993.466666666666)\n",
      "(22585.96899224806, 5993.466666666666) (22935.612403100775, 5666.156589147287)\n",
      "(22935.612403100775, 5666.156589147287) (23267.221705426356, 5345.711627906977)\n",
      "(23267.221705426356, 5345.711627906977) (23609.40465116279, 5005.4496124031)\n",
      "(23609.40465116279, 5005.4496124031) (23938.027906976746, 4670.660465116279)\n",
      "(23938.027906976746, 4670.660465116279) (24620.0, 3959.9999999999995)\n"
     ]
    }
   ],
   "source": [
    "for a_segment in midline_final:\n",
    "    print(a_segment[1], a_segment[2])"
   ]
  }
 ],
 "metadata": {
  "kernelspec": {
   "display_name": "Python 3",
   "language": "python",
   "name": "python3"
  },
  "language_info": {
   "codemirror_mode": {
    "name": "ipython",
    "version": 3
   },
   "file_extension": ".py",
   "mimetype": "text/x-python",
   "name": "python",
   "nbconvert_exporter": "python",
   "pygments_lexer": "ipython3",
   "version": "3.8.3"
  }
 },
 "nbformat": 4,
 "nbformat_minor": 4
}
